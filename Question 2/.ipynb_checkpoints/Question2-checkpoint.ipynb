{
 "cells": [
  {
   "cell_type": "code",
   "execution_count": 73,
   "metadata": {},
   "outputs": [],
   "source": [
    "import numpy as np\n",
    "import pandas as pd\n",
    "from keras.models import Sequential\n",
    "from keras.layers import Dense\n",
    "from keras.layers import Conv2D, MaxPooling2D, Flatten\n",
    "from keras.layers import Dropout\n",
    "from keras.optimizers import Adam\n",
    "import time\n",
    "from keras.utils import np_utils\n",
    "from keras.callbacks import ModelCheckpoint\n",
    "import pickle\n",
    "from sklearn.cluster import KMeans\n",
    "from skimage import io\n",
    "from skimage.color import rgb2gray\n",
    "import matplotlib.pyplot as plt\n",
    "%matplotlib inline\n",
    "import warnings\n",
    "warnings.filterwarnings(\"ignore\")\n",
    "#from google.colab import files"
   ]
  },
  {
   "cell_type": "markdown",
   "metadata": {},
   "source": [
    "Load dataset"
   ]
  },
  {
   "cell_type": "code",
   "execution_count": 2,
   "metadata": {},
   "outputs": [],
   "source": [
    "def unpickle(file):\n",
    "    with open(file, 'rb') as fo:\n",
    "        dict = pickle.load(fo, encoding='bytes')\n",
    "    return dict"
   ]
  },
  {
   "cell_type": "code",
   "execution_count": 3,
   "metadata": {},
   "outputs": [],
   "source": [
    "def read_files():\n",
    "    dataset_temp = unpickle(\"./Data/test_batch\")\n",
    "    dataset = np.array(dataset_temp[b'data'])\n",
    "    labels = np.array(dataset_temp[b'labels'])\n",
    "    for i in range(1,6):\n",
    "        dataset_temp = unpickle(\"./Data/data_batch_\"+str(i))\n",
    "        dataset = np.append(dataset, dataset_temp[b'data'], axis=0)\n",
    "        labels = np.append(labels, dataset_temp[b'labels'], axis=0)\n",
    "    return dataset, labels"
   ]
  },
  {
   "cell_type": "code",
   "execution_count": 4,
   "metadata": {},
   "outputs": [],
   "source": [
    "dataset, labels = read_files()"
   ]
  },
  {
   "cell_type": "markdown",
   "metadata": {},
   "source": [
    "60k images of shape 3072, 60 labels"
   ]
  },
  {
   "cell_type": "code",
   "execution_count": 5,
   "metadata": {},
   "outputs": [
    {
     "data": {
      "text/plain": [
       "((60000, 3072), (60000,))"
      ]
     },
     "execution_count": 5,
     "metadata": {},
     "output_type": "execute_result"
    }
   ],
   "source": [
    "dataset.shape, labels.shape"
   ]
  },
  {
   "cell_type": "markdown",
   "metadata": {},
   "source": [
    "Label of bird?"
   ]
  },
  {
   "cell_type": "code",
   "execution_count": 6,
   "metadata": {},
   "outputs": [
    {
     "name": "stdout",
     "output_type": "stream",
     "text": [
      "[b'airplane' b'automobile' b'bird' b'cat' b'deer' b'dog' b'frog' b'horse'\n",
      " b'ship' b'truck']\n"
     ]
    },
    {
     "data": {
      "text/plain": [
       "'The label number of bird is 2'"
      ]
     },
     "execution_count": 6,
     "metadata": {},
     "output_type": "execute_result"
    }
   ],
   "source": [
    "label_def = np.array(unpickle(\"./Data/batches.meta\")[b'label_names'])\n",
    "cls_name = 'bird'\n",
    "print(label_def)\n",
    "bird_label = np.where(label_def == cls_name.encode())[0][0]\n",
    "\"The label number of \" + cls_name + \" is \" + str(bird_label)"
   ]
  },
  {
   "cell_type": "markdown",
   "metadata": {},
   "source": [
    "Extracting only bird images. Finding bird indices."
   ]
  },
  {
   "cell_type": "code",
   "execution_count": 7,
   "metadata": {},
   "outputs": [
    {
     "name": "stdout",
     "output_type": "stream",
     "text": [
      "[   25    35    65 ... 59987 59991 59995] \n",
      "Shape:  (6000,)\n"
     ]
    }
   ],
   "source": [
    "bird_idxs = np.where(labels == bird_label)[0]\n",
    "print(bird_idxs, \"\\nShape: \", np.array(bird_idxs).shape)"
   ]
  },
  {
   "cell_type": "markdown",
   "metadata": {},
   "source": [
    "Taking only bird images"
   ]
  },
  {
   "cell_type": "code",
   "execution_count": 8,
   "metadata": {},
   "outputs": [
    {
     "data": {
      "text/plain": [
       "(6000, 3072)"
      ]
     },
     "execution_count": 8,
     "metadata": {},
     "output_type": "execute_result"
    }
   ],
   "source": [
    "dataset_bird = np.take(dataset, bird_idxs, axis=0)\n",
    "dataset_bird.shape"
   ]
  },
  {
   "cell_type": "markdown",
   "metadata": {},
   "source": [
    "Reshaping 3072 -> 1024 x 3"
   ]
  },
  {
   "cell_type": "code",
   "execution_count": 9,
   "metadata": {},
   "outputs": [],
   "source": [
    "def reshape_rgb(dataset_):\n",
    "    reshaped = np.empty([dataset_.shape[0], 1024, 3])\n",
    "    for index, i in enumerate(dataset_):\n",
    "        reshaped[index] = dataset_[index].reshape(-1, 1024).T\n",
    "    return reshaped"
   ]
  },
  {
   "cell_type": "code",
   "execution_count": 10,
   "metadata": {
    "scrolled": true
   },
   "outputs": [
    {
     "name": "stdout",
     "output_type": "stream",
     "text": [
      "Original Dataset shape : (6000, 3072)\n",
      "RGB Dataset shape      : (6000, 1024, 3)\n"
     ]
    }
   ],
   "source": [
    "trial = np.array(list(range(1, 3073)))\n",
    "trial = np.array([trial, trial, trial])\n",
    "print(\"Original Dataset shape :\", dataset_bird.shape)\n",
    "reshaped_bird = reshape_rgb(dataset_bird)\n",
    "print(\"RGB Dataset shape      :\", reshaped_bird.shape)"
   ]
  },
  {
   "cell_type": "markdown",
   "metadata": {},
   "source": [
    "reshaped_bird will be used for CNN too. <br>For now, flattening it to get just the pixels for Kmeans"
   ]
  },
  {
   "cell_type": "code",
   "execution_count": 11,
   "metadata": {},
   "outputs": [
    {
     "name": "stdout",
     "output_type": "stream",
     "text": [
      "Just Pixels array shape : (6144000, 3)\n"
     ]
    }
   ],
   "source": [
    "just_pixels = reshaped_bird.reshape(-1, 3)\n",
    "print(\"Just Pixels array shape :\", just_pixels.shape)"
   ]
  },
  {
   "cell_type": "markdown",
   "metadata": {},
   "source": [
    "Getting random pixels from flattened array.\n",
    "<br>For now, it is 10%"
   ]
  },
  {
   "cell_type": "code",
   "execution_count": 12,
   "metadata": {},
   "outputs": [],
   "source": [
    "def get_random_pixels(dataset_, percentage=0.1):\n",
    "    leng = dataset_.shape[0]\n",
    "    idxs = np.array([i for i in range(leng)])\n",
    "    np.random.shuffle(idxs)\n",
    "    idxs = idxs[:int(percentage*leng)]\n",
    "    return np.take(dataset_, idxs, axis=0)"
   ]
  },
  {
   "cell_type": "code",
   "execution_count": 13,
   "metadata": {},
   "outputs": [
    {
     "name": "stdout",
     "output_type": "stream",
     "text": [
      "Subset shape : (614400, 3)\n"
     ]
    },
    {
     "data": {
      "text/plain": [
       "array([[133., 113., 106.],\n",
       "       [ 22.,  23.,  17.],\n",
       "       [ 41.,  75.,  59.],\n",
       "       [141., 171.,  82.],\n",
       "       [142., 134.,  90.],\n",
       "       [ 90., 129., 133.],\n",
       "       [ 63.,  91.,  36.],\n",
       "       [100., 105.,  71.],\n",
       "       [ 66.,  71.,  55.],\n",
       "       [ 88., 107., 112.]])"
      ]
     },
     "execution_count": 13,
     "metadata": {},
     "output_type": "execute_result"
    }
   ],
   "source": [
    "subset_bird_pixels = get_random_pixels(just_pixels, percentage=0.1)\n",
    "print(\"Subset shape :\", subset_bird_pixels.shape)\n",
    "subset_bird_pixels[:10]"
   ]
  },
  {
   "cell_type": "markdown",
   "metadata": {},
   "source": [
    "We now have array of shape (percentage*length) x 3. We will use this for Kmeans"
   ]
  },
  {
   "cell_type": "markdown",
   "metadata": {},
   "source": [
    "# Kmeans"
   ]
  },
  {
   "cell_type": "code",
   "execution_count": 14,
   "metadata": {},
   "outputs": [
    {
     "data": {
      "text/plain": [
       "array([[156.71922584, 156.32145135, 136.97354568],\n",
       "       [207.65023495, 212.7545611 , 212.36885879],\n",
       "       [ 49.37368488,  50.29928392,  38.74558515],\n",
       "       [109.66350587, 109.21516517,  83.32862951]])"
      ]
     },
     "execution_count": 14,
     "metadata": {},
     "output_type": "execute_result"
    }
   ],
   "source": [
    "kmeans = KMeans(n_clusters=4, n_init=10).fit(subset_bird_pixels)\n",
    "kmeans.cluster_centers_"
   ]
  },
  {
   "cell_type": "code",
   "execution_count": 15,
   "metadata": {},
   "outputs": [
    {
     "name": "stdout",
     "output_type": "stream",
     "text": [
      "[[156 156 136]\n",
      " [207 212 212]\n",
      " [ 49  50  38]\n",
      " [109 109  83]]\n"
     ]
    },
    {
     "data": {
      "text/plain": [
       "<matplotlib.image.AxesImage at 0x7f7cb107d160>"
      ]
     },
     "execution_count": 15,
     "metadata": {},
     "output_type": "execute_result"
    },
    {
     "data": {
      "image/png": "[encoded data removed]",
      "text/plain": [
       "<matplotlib.figure.Figure at 0x7f7cb1124710>"
      ]
     },
     "metadata": {},
     "output_type": "display_data"
    }
   ],
   "source": [
    "center_colors = np.uint8(kmeans.cluster_centers_)\n",
    "print(center_colors)\n",
    "indices = np.array(range(len(center_colors))).reshape(-1, 4)\n",
    "io.imshow(center_colors[indices])"
   ]
  },
  {
   "cell_type": "markdown",
   "metadata": {},
   "source": [
    "replacing colors in pictures"
   ]
  },
  {
   "cell_type": "code",
   "execution_count": 70,
   "metadata": {},
   "outputs": [],
   "source": [
    "def recolor_images(reshaped_, center_colors, kmeans):\n",
    "    reshaped_ = reshaped_.copy()\n",
    "    nn_output = np.empty((reshaped_.shape[0], 1024))\n",
    "    print(nn_output.shape)\n",
    "    for index in range(reshaped_.shape[0]):\n",
    "        new_colors = kmeans.predict(reshaped_[index])\n",
    "        nn_output[index] = new_colors\n",
    "        j = center_colors[new_colors]\n",
    "        reshaped_[index] = j\n",
    "    return np.uint8(reshaped_), nn_output"
   ]
  },
  {
   "cell_type": "code",
   "execution_count": 71,
   "metadata": {},
   "outputs": [
    {
     "data": {
      "text/plain": [
       "(6000, 1024, 3)"
      ]
     },
     "execution_count": 71,
     "metadata": {},
     "output_type": "execute_result"
    }
   ],
   "source": [
    "reshaped_bird.shape"
   ]
  },
  {
   "cell_type": "code",
   "execution_count": 72,
   "metadata": {},
   "outputs": [
    {
     "name": "stdout",
     "output_type": "stream",
     "text": [
      "(6000, 1024)\n",
      "(6000, 1024, 3) (6000, 1024)\n"
     ]
    },
    {
     "data": {
      "text/plain": [
       "array([[3., 3., 0., ..., 3., 3., 0.],\n",
       "       [2., 2., 2., ..., 0., 0., 0.],\n",
       "       [1., 0., 3., ..., 2., 2., 2.],\n",
       "       ...,\n",
       "       [3., 2., 3., ..., 2., 2., 2.],\n",
       "       [1., 1., 1., ..., 1., 0., 0.],\n",
       "       [0., 0., 1., ..., 2., 2., 2.]])"
      ]
     },
     "execution_count": 72,
     "metadata": {},
     "output_type": "execute_result"
    }
   ],
   "source": [
    "kmeans_colored, nn_output = recolor_images(reshaped_bird, center_colors, kmeans)\n",
    "print(kmeans_colored.shape, nn_output.shape)"
   ]
  },
  {
   "cell_type": "code",
   "execution_count": 76,
   "metadata": {},
   "outputs": [
    {
     "name": "stdout",
     "output_type": "stream",
     "text": [
      "(6000, 4096)\n"
     ]
    },
    {
     "data": {
      "text/plain": [
       "array([0., 0., 0., 1., 0., 0., 0., 1., 1., 0., 0., 0.])"
      ]
     },
     "execution_count": 76,
     "metadata": {},
     "output_type": "execute_result"
    }
   ],
   "source": [
    "ohe_output = np_utils.to_categorical(nn_output).reshape(-1, 4096)\n",
    "print(ohe_output.shape)\n",
    "ohe_output[0][:12]"
   ]
  },
  {
   "cell_type": "code",
   "execution_count": 45,
   "metadata": {},
   "outputs": [
    {
     "data": {
      "text/plain": [
       "(6000, 1024)"
      ]
     },
     "execution_count": 45,
     "metadata": {},
     "output_type": "execute_result"
    }
   ],
   "source": [
    "grayscale_colored = rgb2gray(reshaped_bird)\n",
    "grayscale_colored.shape"
   ]
  },
  {
   "cell_type": "code",
   "execution_count": 55,
   "metadata": {
    "scrolled": false
   },
   "outputs": [
    {
     "data": {
      "image/png": "[encoded data removed]",
      "text/plain": [
       "<matplotlib.figure.Figure at 0x7f7c976d94a8>"
      ]
     },
     "metadata": {},
     "output_type": "display_data"
    },
    {
     "data": {
      "image/png": "[encoded data removed]",
      "text/plain": [
       "<matplotlib.figure.Figure at 0x7f7ca8038240>"
      ]
     },
     "metadata": {},
     "output_type": "display_data"
    },
    {
     "data": {
      "image/png": "[encoded data removed]",
      "text/plain": [
       "<matplotlib.figure.Figure at 0x7f7ca817ef98>"
      ]
     },
     "metadata": {},
     "output_type": "display_data"
    },
    {
     "data": {
      "image/png": "[encoded data removed]",
      "text/plain": [
       "<matplotlib.figure.Figure at 0x7f7cb1117c50>"
      ]
     },
     "metadata": {},
     "output_type": "display_data"
    },
    {
     "data": {
      "image/png": "[encoded data removed]",
      "text/plain": [
       "<matplotlib.figure.Figure at 0x7f7c976e0b70>"
      ]
     },
     "metadata": {},
     "output_type": "display_data"
    },
    {
     "data": {
      "image/png": "[encoded data removed]",
      "text/plain": [
       "<matplotlib.figure.Figure at 0x7f7ca7f5ad68>"
      ]
     },
     "metadata": {},
     "output_type": "display_data"
    },
    {
     "data": {
      "image/png": "[encoded data removed]",
      "text/plain": [
       "<matplotlib.figure.Figure at 0x7f7c9acc53c8>"
      ]
     },
     "metadata": {},
     "output_type": "display_data"
    },
    {
     "data": {
      "image/png": "[encoded data removed]",
      "text/plain": [
       "<matplotlib.figure.Figure at 0x7f7ca82a5278>"
      ]
     },
     "metadata": {},
     "output_type": "display_data"
    },
    {
     "data": {
      "image/png": "[encoded data removed]",
      "text/plain": [
       "<matplotlib.figure.Figure at 0x7f7ca81fed30>"
      ]
     },
     "metadata": {},
     "output_type": "display_data"
    },
    {
     "data": {
      "image/png": "[encoded data removed]",
      "text/plain": [
       "<matplotlib.figure.Figure at 0x7f7c97978400>"
      ]
     },
     "metadata": {},
     "output_type": "display_data"
    },
    {
     "data": {
      "image/png": "[encoded data removed]",
      "text/plain": [
       "<matplotlib.figure.Figure at 0x7f7c97985780>"
      ]
     },
     "metadata": {},
     "output_type": "display_data"
    },
    {
     "data": {
      "image/png": "[encoded data removed]",
      "text/plain": [
       "<matplotlib.figure.Figure at 0x7f7c976281d0>"
      ]
     },
     "metadata": {},
     "output_type": "display_data"
    },
    {
     "data": {
      "image/png": "[encoded data removed]",
      "text/plain": [
       "<matplotlib.figure.Figure at 0x7f7ca8153400>"
      ]
     },
     "metadata": {},
     "output_type": "display_data"
    },
    {
     "data": {
      "image/png": "[encoded data removed]",
      "text/plain": [
       "<matplotlib.figure.Figure at 0x7f7c97616fd0>"
      ]
     },
     "metadata": {},
     "output_type": "display_data"
    },
    {
     "data": {
      "image/png": "[encoded data removed]",
      "text/plain": [
       "<matplotlib.figure.Figure at 0x7f7ca8266198>"
      ]
     },
     "metadata": {},
     "output_type": "display_data"
    }
   ],
   "source": [
    "for i in range(5):\n",
    "    plt.imshow(reshaped_bird[i].reshape(32, 32, 3))\n",
    "    plt.show()\n",
    "    plt.imshow(kmeans_colored[i].reshape(32, 32, 3))\n",
    "    plt.show()\n",
    "    plt.imshow(grayscale_colored[i].reshape(32, 32), cmap='gray')\n",
    "    plt.show()\n",
    "    "
   ]
  },
  {
   "cell_type": "raw",
   "metadata": {},
   "source": [
    "NN_input = grayscale_colored shape(6000, 1024)\n",
    "\n",
    "NN_output = ohe_output shape(6000, 4096) every 4 neurons for one pixel, 1 color\n",
    "\n",
    "NN_original = reshaped_bird shape(6000, 1024, 3)"
   ]
  },
  {
   "cell_type": "code",
   "execution_count": 80,
   "metadata": {},
   "outputs": [],
   "source": [
    "def create_model():\n",
    "    regressor = Sequential()\n",
    "    \n",
    "    regressor.add(Conv2D(filters=4, kernel_size=5, strides=(1, 1), padding='valid', input_shape=(32, 32, 1)))\n",
    "    regressor.add(MaxPooling2D(pool_size=(2, 2), strides=None, padding='valid'))\n",
    "    regressor.add(Dropout(0.2))\n",
    "    \n",
    "    regressor.add(Conv2D(filters=2, kernel_size=5, strides=(1, 1), padding='valid'))\n",
    "    regressor.add(MaxPooling2D(pool_size=(2, 2), strides=None, padding='valid'))\n",
    "    regressor.add(Dropout(0.2))\n",
    "    \n",
    "    regressor.add(Flatten())\n",
    "    \n",
    "    regressor.add(Dense(units = 1024, activation='softmax'))\n",
    "    regressor.add(Dropout(0.2))\n",
    "    \n",
    "    regressor.add(Dense(units = 4096, activation='softmax'))\n",
    "    regressor.add(Dropout(0.2))\n",
    "    \n",
    "    optimizer = Adam(lr=0.1, beta_1=0.9, beta_2=0.999, epsilon=None, decay=0, amsgrad=False)\n",
    "    \n",
    "    regressor.compile(optimizer = optimizer, loss = 'categorical_crossentropy')\n",
    "    return regressor"
   ]
  },
  {
   "cell_type": "code",
   "execution_count": 81,
   "metadata": {},
   "outputs": [
    {
     "data": {
      "text/plain": [
       "<keras.models.Sequential at 0x7f7c974fb898>"
      ]
     },
     "execution_count": 81,
     "metadata": {},
     "output_type": "execute_result"
    }
   ],
   "source": [
    "regressor = create_model()\n",
    "regressor"
   ]
  },
  {
   "cell_type": "code",
   "execution_count": 83,
   "metadata": {},
   "outputs": [
    {
     "data": {
      "text/plain": [
       "(6000, 32, 32, 1)"
      ]
     },
     "execution_count": 83,
     "metadata": {},
     "output_type": "execute_result"
    }
   ],
   "source": [
    "nn_input = grayscale_colored.reshape(-1, 32, 32, 1)\n",
    "nn_input.shape"
   ]
  },
  {
   "cell_type": "code",
   "execution_count": null,
   "metadata": {},
   "outputs": [
    {
     "name": "stdout",
     "output_type": "stream",
     "text": [
      "Train on 4019 samples, validate on 1981 samples\n",
      "Epoch 1/1\n"
     ]
    }
   ],
   "source": [
    "regressor.fit(nn_input, ohe_output, validation_split=0.33, batch_size=1, epochs=1, verbose=1)"
   ]
  },
  {
   "cell_type": "code",
   "execution_count": null,
   "metadata": {},
   "outputs": [],
   "source": []
  }
 ],
 "metadata": {
  "kernelspec": {
   "display_name": "Python 3",
   "language": "python",
   "name": "python3"
  },
  "language_info": {
   "codemirror_mode": {
    "name": "ipython",
    "version": 3
   },
   "file_extension": ".py",
   "mimetype": "text/x-python",
   "name": "python",
   "nbconvert_exporter": "python",
   "pygments_lexer": "ipython3",
   "version": "3.6.4"
  }
 },
 "nbformat": 4,
 "nbformat_minor": 2
}
