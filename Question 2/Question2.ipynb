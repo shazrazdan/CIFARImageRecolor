{
  "nbformat": 4,
  "nbformat_minor": 0,
  "metadata": {
    "colab": {
      "name": "Question2.ipynb",
      "version": "0.3.2",
      "views": {},
      "default_view": {},
      "provenance": [],
      "collapsed_sections": []
    },
    "kernelspec": {
      "display_name": "Python 3",
      "language": "python",
      "name": "python3"
    },
    "accelerator": "GPU"
  },
  "cells": [
    {
      "metadata": {
        "id": "dsnBBbmsHvjl",
        "colab_type": "text"
      },
      "cell_type": "markdown",
      "source": [
        "# (Deep) CNNs for Image Colorization"
      ]
    },
    {
      "metadata": {
        "id": "NawxYrwZH1a5",
        "colab_type": "text"
      },
      "cell_type": "markdown",
      "source": [
        "### Import all the libraries"
      ]
    },
    {
      "metadata": {
        "id": "2eD77d3vcFa3",
        "colab_type": "code",
        "colab": {
          "autoexec": {
            "startup": false,
            "wait_interval": 0
          },
          "base_uri": "https://localhost:8080/",
          "height": 34
        },
        "outputId": "d089b0e2-13e3-4e81-f41e-b9fbf3ef2151",
        "executionInfo": {
          "status": "ok",
          "timestamp": 1525253829367,
          "user_tz": 420,
          "elapsed": 8507,
          "user": {
            "displayName": "Shashwat Razdan",
            "photoUrl": "https://lh3.googleusercontent.com/a/default-user=s128",
            "userId": "102846678378507051745"
          }
        }
      },
      "cell_type": "code",
      "source": [
        "import numpy as np\n",
        "import pandas as pd\n",
        "from keras.models import Sequential\n",
        "from keras.layers import Dense\n",
        "from keras.layers import Conv2D, MaxPooling2D, Flatten, Reshape, Activation\n",
        "from keras.layers import Dropout\n",
        "from keras.optimizers import Adam\n",
        "import time\n",
        "from keras.utils import np_utils\n",
        "from keras.callbacks import ModelCheckpoint\n",
        "import pickle\n",
        "from sklearn.cluster import KMeans\n",
        "from skimage import io\n",
        "from keras.callbacks import Callback\n",
        "from skimage.color import rgb2gray\n",
        "import matplotlib.pyplot as plt\n",
        "%matplotlib inline\n",
        "import warnings\n",
        "warnings.filterwarnings(\"ignore\")"
      ],
      "execution_count": 1,
      "outputs": [
        {
          "output_type": "stream",
          "text": [
            "Using TensorFlow backend.\n"
          ],
          "name": "stderr"
        }
      ]
    },
    {
      "metadata": {
        "id": "VSxtTSdtH7Ic",
        "colab_type": "text"
      },
      "cell_type": "markdown",
      "source": [
        "### Ques (a)\n",
        "This assignment uses a convolutional neural network for image colorization which turns a grayscale image to a colored image.4 By converting an image to grayscale, we lose color information, so converting a grayscale image back to a colored version is not an easy job. We will use the CIFAR-10 dataset. Downolad the dataset from http://www.cs.toronto.edu/~kriz/cifar-10-python.tar.gz."
      ]
    },
    {
      "metadata": {
        "id": "pVeGGkvHciUn",
        "colab_type": "code",
        "colab": {
          "autoexec": {
            "startup": false,
            "wait_interval": 0
          },
          "resources": {
            "http://localhost:8080/nbextensions/google.colab/files.js": {
              "data": "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",
              "ok": true,
              "headers": [
                [
                  "content-type",
                  "application/javascript"
                ]
              ],
              "status": 200,
              "status_text": ""
            }
          },
          "base_uri": "https://localhost:8080/",
          "height": 392
        },
        "outputId": "e23fb396-b530-4dda-cb6d-9432677a51f9",
        "executionInfo": {
          "status": "ok",
          "timestamp": 1525256340104,
          "user_tz": 420,
          "elapsed": 2509817,
          "user": {
            "displayName": "Shashwat Razdan",
            "photoUrl": "https://lh3.googleusercontent.com/a/default-user=s128",
            "userId": "102846678378507051745"
          }
        }
      },
      "cell_type": "code",
      "source": [
        "from google.colab import files\n",
        "uploaded = files.upload()\n",
        "for fn in uploaded.keys():\n",
        "  print('User uploaded file \"{name}\" with length {length} bytes'.format(name=fn, length=len(uploaded[fn])))"
      ],
      "execution_count": 2,
      "outputs": [
        {
          "output_type": "display_data",
          "data": {
            "text/html": [
              "\n",
              "     <input type=\"file\" id=\"files-cb7c39ce-8cb8-4c68-a594-3aebd99777b9\" name=\"files[]\" multiple disabled />\n",
              "     <output id=\"result-cb7c39ce-8cb8-4c68-a594-3aebd99777b9\">\n",
              "      Upload widget is only available when the cell has been executed in the\n",
              "      current browser session. Please rerun this cell to enable.\n",
              "      </output>\n",
              "      <script src=\"/nbextensions/google.colab/files.js\"></script> "
            ],
            "text/plain": [
              "<IPython.core.display.HTML object>"
            ]
          },
          "metadata": {
            "tags": []
          }
        },
        {
          "output_type": "stream",
          "text": [
            "Saving data_batch_4 to data_batch_4\n",
            "Saving data_batch_5 to data_batch_5\n",
            "Saving data_batch_3 to data_batch_3\n",
            "Saving batches.meta to batches.meta\n",
            "Saving data_batch_2 to data_batch_2\n",
            "Saving test_batch to test_batch\n",
            "Saving data_batch_1 to data_batch_1\n",
            "User uploaded file \"data_batch_4\" with length 31035696 bytes\n",
            "User uploaded file \"data_batch_5\" with length 31035623 bytes\n",
            "User uploaded file \"data_batch_3\" with length 31035999 bytes\n",
            "User uploaded file \"batches.meta\" with length 158 bytes\n",
            "User uploaded file \"data_batch_2\" with length 31035320 bytes\n",
            "User uploaded file \"test_batch\" with length 31035526 bytes\n",
            "User uploaded file \"data_batch_1\" with length 31035704 bytes\n"
          ],
          "name": "stdout"
        }
      ]
    },
    {
      "metadata": {
        "id": "83S3kXwYcFa7",
        "colab_type": "text"
      },
      "cell_type": "markdown",
      "source": [
        "Load dataset"
      ]
    },
    {
      "metadata": {
        "id": "1DB55q0tcFa8",
        "colab_type": "code",
        "colab": {
          "autoexec": {
            "startup": false,
            "wait_interval": 0
          }
        }
      },
      "cell_type": "code",
      "source": [
        "def unpickle(file):\n",
        "    with open(file, 'rb') as fo:\n",
        "        dict = pickle.load(fo, encoding='bytes')\n",
        "    return dict"
      ],
      "execution_count": 0,
      "outputs": []
    },
    {
      "metadata": {
        "id": "sJQ3Zi12cFa_",
        "colab_type": "code",
        "colab": {
          "autoexec": {
            "startup": false,
            "wait_interval": 0
          }
        }
      },
      "cell_type": "code",
      "source": [
        "def read_files():\n",
        "    dataset_temp = unpickle(\"./test_batch\")\n",
        "    dataset = np.array(dataset_temp[b'data'])\n",
        "    labels = np.array(dataset_temp[b'labels'])\n",
        "    for i in range(1,6):\n",
        "        dataset_temp = unpickle(\"./data_batch_\"+str(i))\n",
        "        dataset = np.append(dataset, dataset_temp[b'data'], axis=0)\n",
        "        labels = np.append(labels, dataset_temp[b'labels'], axis=0)\n",
        "    return dataset, labels"
      ],
      "execution_count": 0,
      "outputs": []
    },
    {
      "metadata": {
        "id": "eTND3_UScFbE",
        "colab_type": "code",
        "colab": {
          "autoexec": {
            "startup": false,
            "wait_interval": 0
          }
        }
      },
      "cell_type": "code",
      "source": [
        "dataset, labels = read_files()"
      ],
      "execution_count": 0,
      "outputs": []
    },
    {
      "metadata": {
        "id": "25AQ0sH9cFbI",
        "colab_type": "text"
      },
      "cell_type": "markdown",
      "source": [
        "60k images of shape 3072, 60k labels"
      ]
    },
    {
      "metadata": {
        "id": "JzT5gNKocFbJ",
        "colab_type": "code",
        "colab": {
          "autoexec": {
            "startup": false,
            "wait_interval": 0
          },
          "base_uri": "https://localhost:8080/",
          "height": 34
        },
        "outputId": "3b1474ef-a8f0-4b26-eecf-c7ac5a7b0d67",
        "executionInfo": {
          "status": "ok",
          "timestamp": 1525256345617,
          "user_tz": 420,
          "elapsed": 918,
          "user": {
            "displayName": "Shashwat Razdan",
            "photoUrl": "https://lh3.googleusercontent.com/a/default-user=s128",
            "userId": "102846678378507051745"
          }
        }
      },
      "cell_type": "code",
      "source": [
        "dataset.shape, labels.shape"
      ],
      "execution_count": 6,
      "outputs": [
        {
          "output_type": "execute_result",
          "data": {
            "text/plain": [
              "((60000, 3072), (60000,))"
            ]
          },
          "metadata": {
            "tags": []
          },
          "execution_count": 6
        }
      ]
    },
    {
      "metadata": {
        "id": "Sbnce8XFIK5w",
        "colab_type": "text"
      },
      "cell_type": "markdown",
      "source": [
        "### Ques (b)\n",
        "From the train and test dataset, extract the class birds. We will focus on this class, which has 6000 members."
      ]
    },
    {
      "metadata": {
        "id": "ujOTSsjucFbR",
        "colab_type": "text"
      },
      "cell_type": "markdown",
      "source": [
        "Label of bird?"
      ]
    },
    {
      "metadata": {
        "id": "Mv5j5jtGcFbS",
        "colab_type": "code",
        "colab": {
          "autoexec": {
            "startup": false,
            "wait_interval": 0
          },
          "base_uri": "https://localhost:8080/",
          "height": 68
        },
        "outputId": "c221ae48-67a9-4dc7-efa8-429ebdf6344c",
        "executionInfo": {
          "status": "ok",
          "timestamp": 1525256346851,
          "user_tz": 420,
          "elapsed": 952,
          "user": {
            "displayName": "Shashwat Razdan",
            "photoUrl": "https://lh3.googleusercontent.com/a/default-user=s128",
            "userId": "102846678378507051745"
          }
        }
      },
      "cell_type": "code",
      "source": [
        "label_def = np.array(unpickle(\"./batches.meta\")[b'label_names'])\n",
        "cls_name = 'bird'\n",
        "print(label_def)\n",
        "bird_label = np.where(label_def == cls_name.encode())[0][0]\n",
        "\"The label number of \" + cls_name + \" is \" + str(bird_label)"
      ],
      "execution_count": 7,
      "outputs": [
        {
          "output_type": "stream",
          "text": [
            "[b'airplane' b'automobile' b'bird' b'cat' b'deer' b'dog' b'frog' b'horse'\n",
            " b'ship' b'truck']\n"
          ],
          "name": "stdout"
        },
        {
          "output_type": "execute_result",
          "data": {
            "text/plain": [
              "'The label number of bird is 2'"
            ]
          },
          "metadata": {
            "tags": []
          },
          "execution_count": 7
        }
      ]
    },
    {
      "metadata": {
        "id": "kiFnJOPLcFbY",
        "colab_type": "text"
      },
      "cell_type": "markdown",
      "source": [
        "Extracting only bird images. Finding bird indices."
      ]
    },
    {
      "metadata": {
        "id": "_VfC_JfHcFbZ",
        "colab_type": "code",
        "colab": {
          "autoexec": {
            "startup": false,
            "wait_interval": 0
          },
          "base_uri": "https://localhost:8080/",
          "height": 51
        },
        "outputId": "1a0326ac-8237-4fee-e725-1a01a950801e",
        "executionInfo": {
          "status": "ok",
          "timestamp": 1525256348004,
          "user_tz": 420,
          "elapsed": 904,
          "user": {
            "displayName": "Shashwat Razdan",
            "photoUrl": "https://lh3.googleusercontent.com/a/default-user=s128",
            "userId": "102846678378507051745"
          }
        }
      },
      "cell_type": "code",
      "source": [
        "bird_idxs = np.where(labels == bird_label)[0]\n",
        "print(bird_idxs, \"\\nShape: \", np.array(bird_idxs).shape)"
      ],
      "execution_count": 8,
      "outputs": [
        {
          "output_type": "stream",
          "text": [
            "[   25    35    65 ... 59987 59991 59995] \n",
            "Shape:  (6000,)\n"
          ],
          "name": "stdout"
        }
      ]
    },
    {
      "metadata": {
        "id": "N7kfxNxbcFbd",
        "colab_type": "text"
      },
      "cell_type": "markdown",
      "source": [
        "Taking only bird images"
      ]
    },
    {
      "metadata": {
        "id": "0ywrWeL_cFbf",
        "colab_type": "code",
        "colab": {
          "autoexec": {
            "startup": false,
            "wait_interval": 0
          },
          "base_uri": "https://localhost:8080/",
          "height": 34
        },
        "outputId": "5dce1e4a-3bca-4321-fd8f-6fc9236d3ac7",
        "executionInfo": {
          "status": "ok",
          "timestamp": 1525256349237,
          "user_tz": 420,
          "elapsed": 900,
          "user": {
            "displayName": "Shashwat Razdan",
            "photoUrl": "https://lh3.googleusercontent.com/a/default-user=s128",
            "userId": "102846678378507051745"
          }
        }
      },
      "cell_type": "code",
      "source": [
        "dataset_bird = np.take(dataset, bird_idxs, axis=0)\n",
        "dataset_bird.shape"
      ],
      "execution_count": 9,
      "outputs": [
        {
          "output_type": "execute_result",
          "data": {
            "text/plain": [
              "(6000, 3072)"
            ]
          },
          "metadata": {
            "tags": []
          },
          "execution_count": 9
        }
      ]
    },
    {
      "metadata": {
        "id": "u4uyRN0OcFbk",
        "colab_type": "text"
      },
      "cell_type": "markdown",
      "source": [
        "Reshaping 3072 -> 1024 x 3"
      ]
    },
    {
      "metadata": {
        "id": "EqtdFA3bcFbl",
        "colab_type": "code",
        "colab": {
          "autoexec": {
            "startup": false,
            "wait_interval": 0
          }
        }
      },
      "cell_type": "code",
      "source": [
        "def reshape_rgb(dataset_):\n",
        "    reshaped = np.empty([dataset_.shape[0], 1024, 3])\n",
        "    for index, i in enumerate(dataset_):\n",
        "        reshaped[index] = dataset_[index].reshape(-1, 1024).T\n",
        "    return reshaped"
      ],
      "execution_count": 0,
      "outputs": []
    },
    {
      "metadata": {
        "id": "wBzbFMRBcFbo",
        "colab_type": "code",
        "colab": {
          "autoexec": {
            "startup": false,
            "wait_interval": 0
          },
          "base_uri": "https://localhost:8080/",
          "height": 51
        },
        "outputId": "9997caa2-83ac-40ad-996d-875b01d29918",
        "executionInfo": {
          "status": "ok",
          "timestamp": 1525256351859,
          "user_tz": 420,
          "elapsed": 925,
          "user": {
            "displayName": "Shashwat Razdan",
            "photoUrl": "https://lh3.googleusercontent.com/a/default-user=s128",
            "userId": "102846678378507051745"
          }
        }
      },
      "cell_type": "code",
      "source": [
        "trial = np.array(list(range(1, 3073)))\n",
        "trial = np.array([trial, trial, trial])\n",
        "print(\"Original Dataset shape :\", dataset_bird.shape)\n",
        "reshaped_bird = reshape_rgb(dataset_bird)\n",
        "print(\"RGB Dataset shape      :\", reshaped_bird.shape)"
      ],
      "execution_count": 11,
      "outputs": [
        {
          "output_type": "stream",
          "text": [
            "Original Dataset shape : (6000, 3072)\n",
            "RGB Dataset shape      : (6000, 1024, 3)\n"
          ],
          "name": "stdout"
        }
      ]
    },
    {
      "metadata": {
        "id": "G_OMD_2xcFbs",
        "colab_type": "text"
      },
      "cell_type": "markdown",
      "source": [
        "reshaped_bird will be used for CNN too. <br>For now, flattening it to get just the pixels for Kmeans"
      ]
    },
    {
      "metadata": {
        "id": "KsQRDdsEcFbu",
        "colab_type": "code",
        "colab": {
          "autoexec": {
            "startup": false,
            "wait_interval": 0
          },
          "base_uri": "https://localhost:8080/",
          "height": 34
        },
        "outputId": "9801f0f4-3dde-4092-ed40-ae35a09ce35b",
        "executionInfo": {
          "status": "ok",
          "timestamp": 1525256353050,
          "user_tz": 420,
          "elapsed": 908,
          "user": {
            "displayName": "Shashwat Razdan",
            "photoUrl": "https://lh3.googleusercontent.com/a/default-user=s128",
            "userId": "102846678378507051745"
          }
        }
      },
      "cell_type": "code",
      "source": [
        "just_pixels = reshaped_bird.reshape(-1, 3)\n",
        "print(\"Just Pixels array shape :\", just_pixels.shape)"
      ],
      "execution_count": 12,
      "outputs": [
        {
          "output_type": "stream",
          "text": [
            "Just Pixels array shape : (6144000, 3)\n"
          ],
          "name": "stdout"
        }
      ]
    },
    {
      "metadata": {
        "id": "LQbNRA_vIU59",
        "colab_type": "text"
      },
      "cell_type": "markdown",
      "source": [
        "### Ques (c)\n",
        "Those 6000 images have 6000 × 32 × 32 pixels. Choose at least 10% of the pixels randomly. It is strongly recommended that you choose a large number or all of the pixels. You will have between P = 614400 and P = 6144000 pixels. Each pixel is an RGB vector with three elements."
      ]
    },
    {
      "metadata": {
        "id": "N7VC1JqUcFb2",
        "colab_type": "text"
      },
      "cell_type": "markdown",
      "source": [
        "Getting random pixels from flattened array.\n",
        "<br>For now, it is 10%"
      ]
    },
    {
      "metadata": {
        "id": "iVHgSKMWcFb3",
        "colab_type": "code",
        "colab": {
          "autoexec": {
            "startup": false,
            "wait_interval": 0
          }
        }
      },
      "cell_type": "code",
      "source": [
        "def get_random_pixels(dataset_, percentage=0.1):\n",
        "    leng = dataset_.shape[0]\n",
        "    idxs = np.array([i for i in range(leng)])\n",
        "    np.random.shuffle(idxs)\n",
        "    idxs = idxs[:int(percentage*leng)]\n",
        "    return np.take(dataset_, idxs, axis=0)"
      ],
      "execution_count": 0,
      "outputs": []
    },
    {
      "metadata": {
        "id": "AzRSuqaScFb-",
        "colab_type": "code",
        "colab": {
          "autoexec": {
            "startup": false,
            "wait_interval": 0
          },
          "base_uri": "https://localhost:8080/",
          "height": 204
        },
        "outputId": "9defc043-1ca0-41ee-c6f8-858e5fad4eb3",
        "executionInfo": {
          "status": "ok",
          "timestamp": 1525256356675,
          "user_tz": 420,
          "elapsed": 2138,
          "user": {
            "displayName": "Shashwat Razdan",
            "photoUrl": "https://lh3.googleusercontent.com/a/default-user=s128",
            "userId": "102846678378507051745"
          }
        }
      },
      "cell_type": "code",
      "source": [
        "subset_bird_pixels = get_random_pixels(just_pixels, percentage=0.1)\n",
        "print(\"Subset shape :\", subset_bird_pixels.shape)\n",
        "subset_bird_pixels[:10]"
      ],
      "execution_count": 14,
      "outputs": [
        {
          "output_type": "stream",
          "text": [
            "Subset shape : (614400, 3)\n"
          ],
          "name": "stdout"
        },
        {
          "output_type": "execute_result",
          "data": {
            "text/plain": [
              "array([[175., 232., 254.],\n",
              "       [146., 145.,  82.],\n",
              "       [155., 135.,  88.],\n",
              "       [128., 122.,  94.],\n",
              "       [141., 169., 116.],\n",
              "       [118., 148.,  84.],\n",
              "       [143., 132., 110.],\n",
              "       [160., 167., 173.],\n",
              "       [105.,  92.,  84.],\n",
              "       [141., 133., 118.]])"
            ]
          },
          "metadata": {
            "tags": []
          },
          "execution_count": 14
        }
      ]
    },
    {
      "metadata": {
        "id": "ECtHV56LcFcD",
        "colab_type": "text"
      },
      "cell_type": "markdown",
      "source": [
        "We now have array of shape (percentage*length) x 3. We will use this for Kmeans"
      ]
    },
    {
      "metadata": {
        "id": "wGG9D0LIcFcD",
        "colab_type": "text"
      },
      "cell_type": "markdown",
      "source": [
        "# Kmeans\n",
        "### Ques (d)\n",
        "Run k-means clustering on the P vectors using k = 4. The centers of the clusters will be your main colors. Convert the colored images to k-color images by con- verting each pixel’s value to the closest main color in terms of Euclidean distance. These are the outputs of your network, whose each pixel falls in one of those k classes."
      ]
    },
    {
      "metadata": {
        "id": "AH1ph6zWcFcE",
        "colab_type": "code",
        "colab": {
          "autoexec": {
            "startup": false,
            "wait_interval": 0
          },
          "base_uri": "https://localhost:8080/",
          "height": 85
        },
        "outputId": "c4381531-793d-4988-80ea-3e9c76aceb41",
        "executionInfo": {
          "status": "ok",
          "timestamp": 1525256369697,
          "user_tz": 420,
          "elapsed": 12890,
          "user": {
            "displayName": "Shashwat Razdan",
            "photoUrl": "https://lh3.googleusercontent.com/a/default-user=s128",
            "userId": "102846678378507051745"
          }
        }
      },
      "cell_type": "code",
      "source": [
        "kmeans = KMeans(n_clusters=4, n_init=50).fit(subset_bird_pixels)\n",
        "kmeans.cluster_centers_"
      ],
      "execution_count": 15,
      "outputs": [
        {
          "output_type": "execute_result",
          "data": {
            "text/plain": [
              "array([[156.93938279, 156.50463606, 137.03378216],\n",
              "       [ 49.42379867,  50.42501961,  38.91154489],\n",
              "       [109.90210104, 109.42511599,  83.26692374],\n",
              "       [207.57381988, 212.7236665 , 212.26812394]])"
            ]
          },
          "metadata": {
            "tags": []
          },
          "execution_count": 15
        }
      ]
    },
    {
      "metadata": {
        "id": "BqbTHmuFcFcM",
        "colab_type": "code",
        "colab": {
          "autoexec": {
            "startup": false,
            "wait_interval": 0
          },
          "base_uri": "https://localhost:8080/",
          "height": 230
        },
        "outputId": "0571cd66-e91a-411b-a3e5-f9108a930230",
        "executionInfo": {
          "status": "ok",
          "timestamp": 1525256370792,
          "user_tz": 420,
          "elapsed": 954,
          "user": {
            "displayName": "Shashwat Razdan",
            "photoUrl": "https://lh3.googleusercontent.com/a/default-user=s128",
            "userId": "102846678378507051745"
          }
        }
      },
      "cell_type": "code",
      "source": [
        "center_colors = np.uint8(kmeans.cluster_centers_)\n",
        "print(center_colors)\n",
        "indices = np.array(range(len(center_colors))).reshape(-1, 4)\n",
        "io.imshow(center_colors[indices])"
      ],
      "execution_count": 16,
      "outputs": [
        {
          "output_type": "stream",
          "text": [
            "[[156 156 137]\n",
            " [ 49  50  38]\n",
            " [109 109  83]\n",
            " [207 212 212]]\n"
          ],
          "name": "stdout"
        },
        {
          "output_type": "execute_result",
          "data": {
            "text/plain": [
              "<matplotlib.image.AxesImage at 0x7f2586b18c88>"
            ]
          },
          "metadata": {
            "tags": []
          },
          "execution_count": 16
        },
        {
          "output_type": "display_data",
          "data": {
            "image/png": "[encoded data removed]",
            "text/plain": [
              "<matplotlib.figure.Figure at 0x7f2586c70ac8>"
            ]
          },
          "metadata": {
            "tags": []
          }
        }
      ]
    },
    {
      "metadata": {
        "id": "uGR5ohG6cFcQ",
        "colab_type": "text"
      },
      "cell_type": "markdown",
      "source": [
        "replacing colors in pictures"
      ]
    },
    {
      "metadata": {
        "id": "IRhC73kQcFcR",
        "colab_type": "code",
        "colab": {
          "autoexec": {
            "startup": false,
            "wait_interval": 0
          }
        }
      },
      "cell_type": "code",
      "source": [
        "def recolor_images(reshaped_, center_colors, kmeans):\n",
        "    reshaped_ = reshaped_.copy()\n",
        "    nn_output = np.empty((reshaped_.shape[0], 1024))\n",
        "    print(nn_output.shape)\n",
        "    for index in range(reshaped_.shape[0]):\n",
        "        new_colors = kmeans.predict(reshaped_[index])\n",
        "        nn_output[index] = new_colors\n",
        "        j = center_colors[new_colors]\n",
        "        reshaped_[index] = j\n",
        "    return np.uint8(reshaped_), nn_output"
      ],
      "execution_count": 0,
      "outputs": []
    },
    {
      "metadata": {
        "id": "oSrtJb-5cFcT",
        "colab_type": "code",
        "colab": {
          "autoexec": {
            "startup": false,
            "wait_interval": 0
          },
          "base_uri": "https://localhost:8080/",
          "height": 34
        },
        "outputId": "ee08df60-2726-4b64-ccd2-4bb4cb9d0cfd",
        "executionInfo": {
          "status": "ok",
          "timestamp": 1525256373538,
          "user_tz": 420,
          "elapsed": 1050,
          "user": {
            "displayName": "Shashwat Razdan",
            "photoUrl": "https://lh3.googleusercontent.com/a/default-user=s128",
            "userId": "102846678378507051745"
          }
        }
      },
      "cell_type": "code",
      "source": [
        "reshaped_bird.shape"
      ],
      "execution_count": 18,
      "outputs": [
        {
          "output_type": "execute_result",
          "data": {
            "text/plain": [
              "(6000, 1024, 3)"
            ]
          },
          "metadata": {
            "tags": []
          },
          "execution_count": 18
        }
      ]
    },
    {
      "metadata": {
        "id": "RwWwYEpfcFcX",
        "colab_type": "code",
        "colab": {
          "autoexec": {
            "startup": false,
            "wait_interval": 0
          },
          "base_uri": "https://localhost:8080/",
          "height": 51
        },
        "outputId": "c145099e-7f7c-4b5d-d0f1-4d65168fa016",
        "executionInfo": {
          "status": "ok",
          "timestamp": 1525256377431,
          "user_tz": 420,
          "elapsed": 3525,
          "user": {
            "displayName": "Shashwat Razdan",
            "photoUrl": "https://lh3.googleusercontent.com/a/default-user=s128",
            "userId": "102846678378507051745"
          }
        }
      },
      "cell_type": "code",
      "source": [
        "kmeans_colored, color_output = recolor_images(reshaped_bird, center_colors, kmeans)\n",
        "print(kmeans_colored.shape, color_output.shape)"
      ],
      "execution_count": 19,
      "outputs": [
        {
          "output_type": "stream",
          "text": [
            "(6000, 1024)\n",
            "(6000, 1024, 3) (6000, 1024)\n"
          ],
          "name": "stdout"
        }
      ]
    },
    {
      "metadata": {
        "id": "jR6PXZqQIhnf",
        "colab_type": "text"
      },
      "cell_type": "markdown",
      "source": [
        "### Ques (e)\n",
        "Use any tool (e.g., openCV or scikit-learn) to obtain grayscale 32 × 32 × 1 images from the original 32 × 32 × 3 images. The grayscale images are inputs of your network."
      ]
    },
    {
      "metadata": {
        "id": "Zxi5CxV2cFce",
        "colab_type": "code",
        "colab": {
          "autoexec": {
            "startup": false,
            "wait_interval": 0
          },
          "base_uri": "https://localhost:8080/",
          "height": 34
        },
        "outputId": "1bb2676f-539a-4870-9864-052959a7aa95",
        "executionInfo": {
          "status": "ok",
          "timestamp": 1525256378515,
          "user_tz": 420,
          "elapsed": 1018,
          "user": {
            "displayName": "Shashwat Razdan",
            "photoUrl": "https://lh3.googleusercontent.com/a/default-user=s128",
            "userId": "102846678378507051745"
          }
        }
      },
      "cell_type": "code",
      "source": [
        "grayscale_colored = rgb2gray(reshaped_bird)\n",
        "grayscale_colored.shape"
      ],
      "execution_count": 20,
      "outputs": [
        {
          "output_type": "execute_result",
          "data": {
            "text/plain": [
              "(6000, 1024)"
            ]
          },
          "metadata": {
            "tags": []
          },
          "execution_count": 20
        }
      ]
    },
    {
      "metadata": {
        "id": "N4-9wvthIl7o",
        "colab_type": "text"
      },
      "cell_type": "markdown",
      "source": [
        "### Results till now\n",
        "We have \n",
        "1.   Original Image\n",
        "2.   A recolored bird image according to KMeans centroid colors\n",
        "3.   A grayscale image derived from the original image\n",
        "   \n",
        "We will see all the three images of every sample below, for first 5 samples.\n",
        "\n"
      ]
    },
    {
      "metadata": {
        "id": "LG19p-83cFci",
        "colab_type": "code",
        "colab": {
          "autoexec": {
            "startup": false,
            "wait_interval": 0
          },
          "base_uri": "https://localhost:8080/",
          "height": 3752
        },
        "outputId": "e4f7101b-3485-44c7-9b8c-95fe56e554f2",
        "executionInfo": {
          "status": "ok",
          "timestamp": 1525256382594,
          "user_tz": 420,
          "elapsed": 3774,
          "user": {
            "displayName": "Shashwat Razdan",
            "photoUrl": "https://lh3.googleusercontent.com/a/default-user=s128",
            "userId": "102846678378507051745"
          }
        }
      },
      "cell_type": "code",
      "source": [
        "for i in range(5):\n",
        "    plt.imshow(reshaped_bird[i].reshape(32, 32, 3))\n",
        "    plt.show()\n",
        "    plt.imshow(kmeans_colored[i].reshape(32, 32, 3))\n",
        "    plt.show()\n",
        "    plt.imshow(grayscale_colored[i].reshape(32, 32), cmap='gray')\n",
        "    plt.show()\n",
        "    "
      ],
      "execution_count": 21,
      "outputs": [
        {
          "output_type": "display_data",
          "data": {
            "image/png": "[encoded data removed]",
            "text/plain": [
              "<matplotlib.figure.Figure at 0x7f2586c116d8>"
            ]
          },
          "metadata": {
            "tags": []
          }
        },
        {
          "output_type": "display_data",
          "data": {
            "image/png": "[encoded data removed]",
            "text/plain": [
              "<matplotlib.figure.Figure at 0x7f2586b61d30>"
            ]
          },
          "metadata": {
            "tags": []
          }
        },
        {
          "output_type": "display_data",
          "data": {
            "image/png": "[encoded data removed]",
            "text/plain": [
              "<matplotlib.figure.Figure at 0x7f2584b08f28>"
            ]
          },
          "metadata": {
            "tags": []
          }
        },
        {
          "output_type": "display_data",
          "data": {
            "image/png": "[encoded data removed]",
            "text/plain": [
              "<matplotlib.figure.Figure at 0x7f2584a557b8>"
            ]
          },
          "metadata": {
            "tags": []
          }
        },
        {
          "output_type": "display_data",
          "data": {
            "image/png": "[encoded data removed]",
            "text/plain": [
              "<matplotlib.figure.Figure at 0x7f25849d14a8>"
            ]
          },
          "metadata": {
            "tags": []
          }
        },
        {
          "output_type": "display_data",
          "data": {
            "image/png": "[encoded data removed]",
            "text/plain": [
              "<matplotlib.figure.Figure at 0x7f2584a17c88>"
            ]
          },
          "metadata": {
            "tags": []
          }
        },
        {
          "output_type": "display_data",
          "data": {
            "image/png": "[encoded data removed]",
            "text/plain": [
              "<matplotlib.figure.Figure at 0x7f2586c0dc18>"
            ]
          },
          "metadata": {
            "tags": []
          }
        },
        {
          "output_type": "display_data",
          "data": {
            "image/png": "[encoded data removed]",
            "text/plain": [
              "<matplotlib.figure.Figure at 0x7f2584aaec88>"
            ]
          },
          "metadata": {
            "tags": []
          }
        },
        {
          "output_type": "display_data",
          "data": {
            "image/png": "[encoded data removed]",
            "text/plain": [
              "<matplotlib.figure.Figure at 0x7f2586b5cf28>"
            ]
          },
          "metadata": {
            "tags": []
          }
        },
        {
          "output_type": "display_data",
          "data": {
            "image/png": "[encoded data removed]",
            "text/plain": [
              "<matplotlib.figure.Figure at 0x7f258499e0b8>"
            ]
          },
          "metadata": {
            "tags": []
          }
        },
        {
          "output_type": "display_data",
          "data": {
            "image/png": "[encoded data removed]",
            "text/plain": [
              "<matplotlib.figure.Figure at 0x7f258498de10>"
            ]
          },
          "metadata": {
            "tags": []
          }
        },
        {
          "output_type": "display_data",
          "data": {
            "image/png": "[encoded data removed]",
            "text/plain": [
              "<matplotlib.figure.Figure at 0x7f25849b4160>"
            ]
          },
          "metadata": {
            "tags": []
          }
        },
        {
          "output_type": "display_data",
          "data": {
            "image/png": "[encoded data removed]",
            "text/plain": [
              "<matplotlib.figure.Figure at 0x7f25848c8c88>"
            ]
          },
          "metadata": {
            "tags": []
          }
        },
        {
          "output_type": "display_data",
          "data": {
            "image/png": "[encoded data removed]",
            "text/plain": [
              "<matplotlib.figure.Figure at 0x7f25848330f0>"
            ]
          },
          "metadata": {
            "tags": []
          }
        },
        {
          "output_type": "display_data",
          "data": {
            "image/png": "[encoded data removed]",
            "text/plain": [
              "<matplotlib.figure.Figure at 0x7f25848a24a8>"
            ]
          },
          "metadata": {
            "tags": []
          }
        }
      ]
    },
    {
      "metadata": {
        "id": "v38xzoIUJR-x",
        "colab_type": "text"
      },
      "cell_type": "markdown",
      "source": [
        "### Ques (f)\n",
        "Set up a deep convolutional neural network with two convolution layers and two MLP layers with. Use 5 × 5 filters and a softmax layer. Determine the number of filters, strides, and whether or not to use padding yourself. Use a minimum of one max pooling layer. Your input is a grayscale version of an image (32 × 32 × 1) and the output is a 32 × 32 × 3 image that is colored using the main colors. Use a classification scheme, which means your output must determine one of the k color classes for each pixel in your grayscale image. Train at least for 5 epochs. Plot training, (validation), and test errors in each epoch. Report the train and test errors and visually compare the artificially colored versions of the first 10 images in the test set with the original images."
      ]
    },
    {
      "metadata": {
        "id": "xC3T9uFlLoFr",
        "colab_type": "text"
      },
      "cell_type": "markdown",
      "source": [
        "Here, the first 1000 samples are separated as test set because the corpus was created having test set before the training set."
      ]
    },
    {
      "metadata": {
        "id": "miEACdjYcFca",
        "colab_type": "code",
        "colab": {
          "autoexec": {
            "startup": false,
            "wait_interval": 0
          },
          "base_uri": "https://localhost:8080/",
          "height": 51
        },
        "outputId": "afde92e5-67b7-4f81-ff9a-8836f4788ef1",
        "executionInfo": {
          "status": "ok",
          "timestamp": 1525256384107,
          "user_tz": 420,
          "elapsed": 1412,
          "user": {
            "displayName": "Shashwat Razdan",
            "photoUrl": "https://lh3.googleusercontent.com/a/default-user=s128",
            "userId": "102846678378507051745"
          }
        }
      },
      "cell_type": "code",
      "source": [
        "nn_input = grayscale_colored.reshape(-1, 32, 32, 1)\n",
        "\n",
        "ohe_output = np_utils.to_categorical(color_output).reshape(-1, 4096)\n",
        "nn_output = ohe_output.reshape(-1, 1024, 4)\n",
        "\n",
        "\n",
        "nn_input_test = nn_input[:1000]\n",
        "nn_output_test = nn_output[:1000]\n",
        "nn_input = nn_input[1000:]\n",
        "nn_output = nn_output[1000:]\n",
        "\n",
        "print(\"Input shape :\", nn_input.shape)\n",
        "print(\"Output Shape:\", nn_output.shape)"
      ],
      "execution_count": 22,
      "outputs": [
        {
          "output_type": "stream",
          "text": [
            "Input shape : (5000, 32, 32, 1)\n",
            "Output Shape: (5000, 1024, 4)\n"
          ],
          "name": "stdout"
        }
      ]
    },
    {
      "metadata": {
        "id": "fX5I0FsFLJDR",
        "colab_type": "text"
      },
      "cell_type": "markdown",
      "source": [
        "#### CNN input and output configuration\n",
        "NN_input = grayscale_colored shape(6000, 1024)\n",
        "\n",
        "NN_output = ohe_output shape (6000, 1024, 4) every 4 neurons for one pixel, 1 color<br>\n",
        "            &nbsp;&nbsp;&nbsp;&nbsp;&nbsp;&nbsp;&nbsp;&nbsp;&nbsp;&nbsp;&nbsp;&nbsp;&nbsp;&nbsp;&nbsp;&nbsp;&nbsp;&nbsp;&nbsp;&nbsp;&nbsp;&nbsp;&nbsp;\n",
        "            kmeans_colored shape(6000, 1024) output of neural network. Required for categorical cross entropy loss.\n",
        "\n",
        "NN_original = reshaped_bird shape(6000, 1024, 3)"
      ]
    },
    {
      "metadata": {
        "id": "kncLlaQQKZF0",
        "colab_type": "text"
      },
      "cell_type": "markdown",
      "source": [
        "#### Call back list:\n",
        "1. Model Checkpointing callback. It will save the weights of the best model.\n",
        "2. Test Evaluation callback. This custom class will save the test loss after every epoch."
      ]
    },
    {
      "metadata": {
        "id": "UrvgGZWnmYl8",
        "colab_type": "code",
        "colab": {
          "autoexec": {
            "startup": false,
            "wait_interval": 0
          }
        }
      },
      "cell_type": "code",
      "source": [
        "filepath=\"weights.best.hdf5\"\n",
        "\n",
        "\n",
        "\n",
        "class TestCallback(Callback):\n",
        "    def __init__(self, test_data):\n",
        "        self.test_data = test_data\n",
        "        self.test_loss = []\n",
        "\n",
        "    def on_epoch_end(self, epoch, logs={}):\n",
        "        x, y = self.test_data\n",
        "        loss = self.model.evaluate(x, y, verbose=0)\n",
        "        self.test_loss.append(loss)\n",
        "        print('\\nTesting loss: {}\\n'.format(loss))\n",
        "        \n",
        "    def return_test(self):\n",
        "        return self.test_loss\n",
        "\n",
        "test_callback = TestCallback((nn_input_test, nn_output_test))\n",
        "checkpoint = ModelCheckpoint(filepath, monitor='val_loss', verbose=1, save_best_only=True, mode='min')\n",
        "callbacks_list = [checkpoint, test_callback]"
      ],
      "execution_count": 0,
      "outputs": []
    },
    {
      "metadata": {
        "id": "Nb3K8pk5LQSI",
        "colab_type": "text"
      },
      "cell_type": "markdown",
      "source": [
        "Function to create model. The model is created based on the requirements in the question."
      ]
    },
    {
      "metadata": {
        "id": "ACgrfQsccFcp",
        "colab_type": "code",
        "colab": {
          "autoexec": {
            "startup": false,
            "wait_interval": 0
          }
        }
      },
      "cell_type": "code",
      "source": [
        "def create_model():\n",
        "    regressor = Sequential()\n",
        "    \n",
        "    regressor.add(Conv2D(filters=10, kernel_size=5, strides=(1, 1), padding='valid', input_shape=(32, 32, 1)))\n",
        "    regressor.add(MaxPooling2D(pool_size=(2, 2), strides=None, padding='valid'))\n",
        "    regressor.add(Dropout(0.2))\n",
        "    \n",
        "    regressor.add(Conv2D(filters=10, kernel_size=5, strides=(1, 1), padding='valid'))\n",
        "    regressor.add(MaxPooling2D(pool_size=(2, 2), strides=None, padding='valid'))\n",
        "    regressor.add(Dropout(0.2))\n",
        "    \n",
        "    regressor.add(Flatten())\n",
        "    \n",
        "    regressor.add(Dense(units = 4096))\n",
        "    regressor.add(Dropout(0.2))\n",
        "    \n",
        "    regressor.add(Dense(units = 4096))\n",
        "    regressor.add(Dropout(0.2))\n",
        "    regressor.add(Reshape((-1, 4)))\n",
        "    \n",
        "    regressor.add(Activation('softmax'))\n",
        "    \n",
        "    regressor.compile(optimizer = Adam(), loss = 'categorical_crossentropy')\n",
        "    return regressor"
      ],
      "execution_count": 0,
      "outputs": []
    },
    {
      "metadata": {
        "id": "FHzSrqIscFct",
        "colab_type": "code",
        "colab": {
          "autoexec": {
            "startup": false,
            "wait_interval": 0
          },
          "base_uri": "https://localhost:8080/",
          "height": 34
        },
        "outputId": "b24314b7-4b7f-4c22-c0d0-68b8d8a93e0c",
        "executionInfo": {
          "status": "ok",
          "timestamp": 1525256989044,
          "user_tz": 420,
          "elapsed": 930,
          "user": {
            "displayName": "Shashwat Razdan",
            "photoUrl": "https://lh3.googleusercontent.com/a/default-user=s128",
            "userId": "102846678378507051745"
          }
        }
      },
      "cell_type": "code",
      "source": [
        "regressor = create_model()\n",
        "regressor"
      ],
      "execution_count": 42,
      "outputs": [
        {
          "output_type": "execute_result",
          "data": {
            "text/plain": [
              "<keras.models.Sequential at 0x7f25508b7f28>"
            ]
          },
          "metadata": {
            "tags": []
          },
          "execution_count": 42
        }
      ]
    },
    {
      "metadata": {
        "id": "dq9mxFLWLbeg",
        "colab_type": "text"
      },
      "cell_type": "markdown",
      "source": [
        "The final input and output shape for the model. 5000 represents the number of samples in training."
      ]
    },
    {
      "metadata": {
        "id": "wJyk9ZUDobpW",
        "colab_type": "code",
        "colab": {
          "autoexec": {
            "startup": false,
            "wait_interval": 0
          },
          "base_uri": "https://localhost:8080/",
          "height": 34
        },
        "outputId": "5c999d74-b78f-40c9-c9d4-a4555e197347",
        "executionInfo": {
          "status": "ok",
          "timestamp": 1525256993128,
          "user_tz": 420,
          "elapsed": 1117,
          "user": {
            "displayName": "Shashwat Razdan",
            "photoUrl": "https://lh3.googleusercontent.com/a/default-user=s128",
            "userId": "102846678378507051745"
          }
        }
      },
      "cell_type": "code",
      "source": [
        "nn_input.shape, nn_output.shape"
      ],
      "execution_count": 43,
      "outputs": [
        {
          "output_type": "execute_result",
          "data": {
            "text/plain": [
              "((5000, 32, 32, 1), (5000, 1024, 4))"
            ]
          },
          "metadata": {
            "tags": []
          },
          "execution_count": 43
        }
      ]
    },
    {
      "metadata": {
        "id": "YHje90ctLxkT",
        "colab_type": "text"
      },
      "cell_type": "markdown",
      "source": [
        "Trained for 100 epochs. after each epoch, train, validation and test errors are logged."
      ]
    },
    {
      "metadata": {
        "id": "hYB96AoTcFdB",
        "colab_type": "code",
        "colab": {
          "autoexec": {
            "startup": false,
            "wait_interval": 0
          },
          "base_uri": "https://localhost:8080/",
          "height": 11954
        },
        "outputId": "ae3f44f2-6a63-46c1-94f2-996e137fd505",
        "executionInfo": {
          "status": "ok",
          "timestamp": 1525257095625,
          "user_tz": 420,
          "elapsed": 101803,
          "user": {
            "displayName": "Shashwat Razdan",
            "photoUrl": "https://lh3.googleusercontent.com/a/default-user=s128",
            "userId": "102846678378507051745"
          }
        }
      },
      "cell_type": "code",
      "source": [
        "history = regressor.fit(nn_input, nn_output, validation_split=0.33, batch_size=900, epochs=100, callbacks=callbacks_list, verbose=1)"
      ],
      "execution_count": 44,
      "outputs": [
        {
          "output_type": "stream",
          "text": [
            "Train on 3349 samples, validate on 1651 samples\n",
            "Epoch 1/100\n",
            "3349/3349 [==============================] - 1s 370us/step - loss: 9.8157 - val_loss: 7.5300\n",
            "\n",
            "Epoch 00001: val_loss improved from inf to 7.52997, saving model to weights.best.hdf5\n",
            "\n",
            "Testing loss: 7.610360702514648\n",
            "\n",
            "Epoch 2/100\n",
            "3349/3349 [==============================] - 1s 164us/step - loss: 7.6096 - val_loss: 7.8177\n",
            "\n",
            "Epoch 00002: val_loss did not improve from 7.52997\n",
            "\n",
            "Testing loss: 7.937023300170899\n",
            "\n",
            "Epoch 3/100\n",
            "3349/3349 [==============================] - 1s 154us/step - loss: 6.5487 - val_loss: 6.9623\n",
            "\n",
            "Epoch 00003: val_loss improved from 7.52997 to 6.96228, saving model to weights.best.hdf5\n",
            "\n",
            "Testing loss: 7.089818817138672\n",
            "\n",
            "Epoch 4/100\n",
            "3349/3349 [==============================] - 1s 151us/step - loss: 5.6871 - val_loss: 6.4982\n",
            "\n",
            "Epoch 00004: val_loss improved from 6.96228 to 6.49817, saving model to weights.best.hdf5\n",
            "\n",
            "Testing loss: 6.624945610046387\n",
            "\n",
            "Epoch 5/100\n",
            "3349/3349 [==============================] - 1s 153us/step - loss: 4.8259 - val_loss: 5.1899\n",
            "\n",
            "Epoch 00005: val_loss improved from 6.49817 to 5.18991, saving model to weights.best.hdf5\n",
            "\n",
            "Testing loss: 5.297559585571289\n",
            "\n",
            "Epoch 6/100\n",
            "3349/3349 [==============================] - 1s 151us/step - loss: 3.9731 - val_loss: 3.0513\n",
            "\n",
            "Epoch 00006: val_loss improved from 5.18991 to 3.05127, saving model to weights.best.hdf5\n",
            "\n",
            "Testing loss: 3.1095451011657715\n",
            "\n",
            "Epoch 7/100\n",
            "3349/3349 [==============================] - 1s 153us/step - loss: 3.1168 - val_loss: 2.3059\n",
            "\n",
            "Epoch 00007: val_loss improved from 3.05127 to 2.30587, saving model to weights.best.hdf5\n",
            "\n",
            "Testing loss: 2.3456077919006346\n",
            "\n",
            "Epoch 8/100\n",
            "3349/3349 [==============================] - 1s 153us/step - loss: 2.4777 - val_loss: 1.6504\n",
            "\n",
            "Epoch 00008: val_loss improved from 2.30587 to 1.65038, saving model to weights.best.hdf5\n",
            "\n",
            "Testing loss: 1.6802069702148437\n",
            "\n",
            "Epoch 9/100\n",
            "3349/3349 [==============================] - 1s 152us/step - loss: 2.0619 - val_loss: 1.3000\n",
            "\n",
            "Epoch 00009: val_loss improved from 1.65038 to 1.30003, saving model to weights.best.hdf5\n",
            "\n",
            "Testing loss: 1.316785249710083\n",
            "\n",
            "Epoch 10/100\n",
            "3349/3349 [==============================] - 1s 153us/step - loss: 1.7976 - val_loss: 1.2773\n",
            "\n",
            "Epoch 00010: val_loss improved from 1.30003 to 1.27734, saving model to weights.best.hdf5\n",
            "\n",
            "Testing loss: 1.2987092638015747\n",
            "\n",
            "Epoch 11/100\n",
            "3349/3349 [==============================] - 1s 160us/step - loss: 1.6574 - val_loss: 1.2757\n",
            "\n",
            "Epoch 00011: val_loss improved from 1.27734 to 1.27565, saving model to weights.best.hdf5\n",
            "\n",
            "Testing loss: 1.2998535938262938\n",
            "\n",
            "Epoch 12/100\n",
            "3349/3349 [==============================] - 1s 156us/step - loss: 1.5543 - val_loss: 1.2030\n",
            "\n",
            "Epoch 00012: val_loss improved from 1.27565 to 1.20296, saving model to weights.best.hdf5\n",
            "\n",
            "Testing loss: 1.2191984634399413\n",
            "\n",
            "Epoch 13/100\n",
            "3349/3349 [==============================] - 1s 156us/step - loss: 1.4788 - val_loss: 1.1264\n",
            "\n",
            "Epoch 00013: val_loss improved from 1.20296 to 1.12641, saving model to weights.best.hdf5\n"
          ],
          "name": "stdout"
        },
        {
          "output_type": "stream",
          "text": [
            "\n",
            "Testing loss: 1.1341976222991943\n",
            "\n",
            "Epoch 14/100\n",
            "3349/3349 [==============================] - 1s 153us/step - loss: 1.4187 - val_loss: 1.0981\n",
            "\n",
            "Epoch 00014: val_loss improved from 1.12641 to 1.09807, saving model to weights.best.hdf5\n",
            "\n",
            "Testing loss: 1.1064982166290283\n",
            "\n",
            "Epoch 15/100\n",
            "3349/3349 [==============================] - 1s 152us/step - loss: 1.3799 - val_loss: 1.0994\n",
            "\n",
            "Epoch 00015: val_loss did not improve from 1.09807\n",
            "\n",
            "Testing loss: 1.1105430517196655\n",
            "\n",
            "Epoch 16/100\n",
            "3349/3349 [==============================] - 1s 154us/step - loss: 1.3397 - val_loss: 1.0696\n",
            "\n",
            "Epoch 00016: val_loss improved from 1.09807 to 1.06956, saving model to weights.best.hdf5\n",
            "\n",
            "Testing loss: 1.0784626693725585\n",
            "\n",
            "Epoch 17/100\n",
            "3349/3349 [==============================] - 1s 153us/step - loss: 1.3106 - val_loss: 1.0624\n",
            "\n",
            "Epoch 00017: val_loss improved from 1.06956 to 1.06242, saving model to weights.best.hdf5\n",
            "\n",
            "Testing loss: 1.0715901718139649\n",
            "\n",
            "Epoch 18/100\n",
            "3349/3349 [==============================] - 1s 154us/step - loss: 1.2859 - val_loss: 1.0484\n",
            "\n",
            "Epoch 00018: val_loss improved from 1.06242 to 1.04843, saving model to weights.best.hdf5\n",
            "\n",
            "Testing loss: 1.0549043102264404\n",
            "\n",
            "Epoch 19/100\n",
            "3349/3349 [==============================] - 1s 156us/step - loss: 1.2654 - val_loss: 1.0440\n",
            "\n",
            "Epoch 00019: val_loss improved from 1.04843 to 1.04398, saving model to weights.best.hdf5\n",
            "\n",
            "Testing loss: 1.0550838317871094\n",
            "\n",
            "Epoch 20/100\n",
            "3349/3349 [==============================] - 1s 160us/step - loss: 1.2456 - val_loss: 1.0537\n",
            "\n",
            "Epoch 00020: val_loss did not improve from 1.04398\n",
            "\n",
            "Testing loss: 1.0665743627548219\n",
            "\n",
            "Epoch 21/100\n",
            "3349/3349 [==============================] - 1s 156us/step - loss: 1.2346 - val_loss: 1.0988\n",
            "\n",
            "Epoch 00021: val_loss did not improve from 1.04398\n",
            "\n",
            "Testing loss: 1.1132470645904542\n",
            "\n",
            "Epoch 22/100\n",
            "3349/3349 [==============================] - 1s 154us/step - loss: 1.2247 - val_loss: 1.1132\n",
            "\n",
            "Epoch 00022: val_loss did not improve from 1.04398\n",
            "\n",
            "Testing loss: 1.1237106952667237\n",
            "\n",
            "Epoch 23/100\n",
            "3349/3349 [==============================] - 1s 157us/step - loss: 1.2165 - val_loss: 1.0537\n",
            "\n",
            "Epoch 00023: val_loss did not improve from 1.04398\n",
            "\n",
            "Testing loss: 1.0640873765945436\n",
            "\n",
            "Epoch 24/100\n",
            "3349/3349 [==============================] - 1s 153us/step - loss: 1.2047 - val_loss: 1.0209\n",
            "\n",
            "Epoch 00024: val_loss improved from 1.04398 to 1.02088, saving model to weights.best.hdf5\n",
            "\n",
            "Testing loss: 1.0279266901016235\n",
            "\n",
            "Epoch 25/100\n",
            "3349/3349 [==============================] - 1s 155us/step - loss: 1.1935 - val_loss: 1.0163\n",
            "\n",
            "Epoch 00025: val_loss improved from 1.02088 to 1.01634, saving model to weights.best.hdf5\n",
            "\n",
            "Testing loss: 1.0201811780929566\n",
            "\n",
            "Epoch 26/100\n",
            "2700/3349 [=======================>......] - ETA: 0s - loss: 1.1884"
          ],
          "name": "stdout"
        },
        {
          "output_type": "stream",
          "text": [
            "\b\b\b\b\b\b\b\b\b\b\b\b\b\b\b\b\b\b\b\b\b\b\b\b\b\b\b\b\b\b\b\b\b\b\b\b\b\b\b\b\b\b\b\b\b\b\b\b\b\b\b\b\b\b\b\b\b\b\b\b\b\b\b\b\b\b\b\r3349/3349 [==============================] - 1s 155us/step - loss: 1.1891 - val_loss: 1.0206\n",
            "\n",
            "Epoch 00026: val_loss did not improve from 1.01634\n",
            "\n",
            "Testing loss: 1.022424340248108\n",
            "\n",
            "Epoch 27/100\n",
            "3349/3349 [==============================] - 1s 152us/step - loss: 1.1794 - val_loss: 1.0338\n",
            "\n",
            "Epoch 00027: val_loss did not improve from 1.01634\n",
            "\n",
            "Testing loss: 1.0394569759368897\n",
            "\n",
            "Epoch 28/100\n",
            "3349/3349 [==============================] - 1s 155us/step - loss: 1.1723 - val_loss: 1.0311\n",
            "\n",
            "Epoch 00028: val_loss did not improve from 1.01634\n",
            "\n",
            "Testing loss: 1.0439773006439208\n",
            "\n",
            "Epoch 29/100\n",
            "3349/3349 [==============================] - 1s 154us/step - loss: 1.1670 - val_loss: 1.0530\n",
            "\n",
            "Epoch 00029: val_loss did not improve from 1.01634\n",
            "\n",
            "Testing loss: 1.066526948928833\n",
            "\n",
            "Epoch 30/100\n",
            "3349/3349 [==============================] - 1s 154us/step - loss: 1.1601 - val_loss: 1.0343\n",
            "\n",
            "Epoch 00030: val_loss did not improve from 1.01634\n",
            "\n",
            "Testing loss: 1.0441798896789551\n",
            "\n",
            "Epoch 31/100\n",
            "3349/3349 [==============================] - 1s 152us/step - loss: 1.1560 - val_loss: 1.0119\n",
            "\n",
            "Epoch 00031: val_loss improved from 1.01634 to 1.01187, saving model to weights.best.hdf5\n",
            "\n",
            "Testing loss: 1.020158613204956\n",
            "\n",
            "Epoch 32/100\n",
            "3349/3349 [==============================] - 1s 153us/step - loss: 1.1437 - val_loss: 1.0121\n",
            "\n",
            "Epoch 00032: val_loss did not improve from 1.01187\n",
            "\n",
            "Testing loss: 1.01641037940979\n",
            "\n",
            "Epoch 33/100\n",
            "3349/3349 [==============================] - 1s 154us/step - loss: 1.1411 - val_loss: 1.0217\n",
            "\n",
            "Epoch 00033: val_loss did not improve from 1.01187\n",
            "\n",
            "Testing loss: 1.027825834274292\n",
            "\n",
            "Epoch 34/100\n",
            "3349/3349 [==============================] - 1s 156us/step - loss: 1.1318 - val_loss: 1.0360\n",
            "\n",
            "Epoch 00034: val_loss did not improve from 1.01187\n",
            "\n",
            "Testing loss: 1.0436185855865479\n",
            "\n",
            "Epoch 35/100\n",
            "3349/3349 [==============================] - 1s 153us/step - loss: 1.1269 - val_loss: 1.0513\n",
            "\n",
            "Epoch 00035: val_loss did not improve from 1.01187\n",
            "\n",
            "Testing loss: 1.0596972675323486\n",
            "\n",
            "Epoch 36/100\n",
            "3349/3349 [==============================] - 1s 151us/step - loss: 1.1197 - val_loss: 1.0080\n",
            "\n",
            "Epoch 00036: val_loss improved from 1.01187 to 1.00800, saving model to weights.best.hdf5\n",
            "\n",
            "Testing loss: 1.0111238040924073\n",
            "\n",
            "Epoch 37/100\n",
            "3349/3349 [==============================] - 1s 156us/step - loss: 1.1178 - val_loss: 0.9954\n",
            "\n",
            "Epoch 00037: val_loss improved from 1.00800 to 0.99540, saving model to weights.best.hdf5\n",
            "\n",
            "Testing loss: 0.9996559009552002\n",
            "\n",
            "Epoch 38/100\n",
            "3349/3349 [==============================] - 1s 154us/step - loss: 1.1142 - val_loss: 1.0000\n",
            "\n",
            "Epoch 00038: val_loss did not improve from 0.99540\n",
            "\n",
            "Testing loss: 1.003606294631958\n",
            "\n",
            "Epoch 39/100\n"
          ],
          "name": "stdout"
        },
        {
          "output_type": "stream",
          "text": [
            "3349/3349 [==============================] - 1s 156us/step - loss: 1.1130 - val_loss: 0.9910\n",
            "\n",
            "Epoch 00039: val_loss improved from 0.99540 to 0.99100, saving model to weights.best.hdf5\n",
            "\n",
            "Testing loss: 0.9931583452224731\n",
            "\n",
            "Epoch 40/100\n",
            "3349/3349 [==============================] - 1s 153us/step - loss: 1.1069 - val_loss: 1.0035\n",
            "\n",
            "Epoch 00040: val_loss did not improve from 0.99100\n",
            "\n",
            "Testing loss: 1.0111701183319093\n",
            "\n",
            "Epoch 41/100\n",
            "3349/3349 [==============================] - 1s 153us/step - loss: 1.0984 - val_loss: 0.9923\n",
            "\n",
            "Epoch 00041: val_loss did not improve from 0.99100\n",
            "\n",
            "Testing loss: 0.9977883548736572\n",
            "\n",
            "Epoch 42/100\n",
            "3349/3349 [==============================] - 1s 154us/step - loss: 1.0993 - val_loss: 0.9869\n",
            "\n",
            "Epoch 00042: val_loss improved from 0.99100 to 0.98689, saving model to weights.best.hdf5\n",
            "\n",
            "Testing loss: 0.9938155632019043\n",
            "\n",
            "Epoch 43/100\n",
            "3349/3349 [==============================] - 1s 153us/step - loss: 1.0901 - val_loss: 0.9689\n",
            "\n",
            "Epoch 00043: val_loss improved from 0.98689 to 0.96889, saving model to weights.best.hdf5\n",
            "\n",
            "Testing loss: 0.9725853519439698\n",
            "\n",
            "Epoch 44/100\n",
            "3349/3349 [==============================] - 1s 151us/step - loss: 1.0870 - val_loss: 0.9882\n",
            "\n",
            "Epoch 00044: val_loss did not improve from 0.96889\n",
            "\n",
            "Testing loss: 0.9954360332489014\n",
            "\n",
            "Epoch 45/100\n",
            "3349/3349 [==============================] - 1s 153us/step - loss: 1.0853 - val_loss: 1.0117\n",
            "\n",
            "Epoch 00045: val_loss did not improve from 0.96889\n",
            "\n",
            "Testing loss: 1.0246282243728637\n",
            "\n",
            "Epoch 46/100\n",
            "3349/3349 [==============================] - 1s 153us/step - loss: 1.0773 - val_loss: 1.0278\n",
            "\n",
            "Epoch 00046: val_loss did not improve from 0.96889\n",
            "\n",
            "Testing loss: 1.0381575584411622\n",
            "\n",
            "Epoch 47/100\n",
            "3349/3349 [==============================] - 1s 154us/step - loss: 1.0754 - val_loss: 0.9839\n",
            "\n",
            "Epoch 00047: val_loss did not improve from 0.96889\n",
            "\n",
            "Testing loss: 0.9952265510559082\n",
            "\n",
            "Epoch 48/100\n",
            "3349/3349 [==============================] - 1s 153us/step - loss: 1.0671 - val_loss: 0.9708\n",
            "\n",
            "Epoch 00048: val_loss did not improve from 0.96889\n",
            "\n",
            "Testing loss: 0.9775440006256103\n",
            "\n",
            "Epoch 49/100\n",
            "3349/3349 [==============================] - 1s 153us/step - loss: 1.0660 - val_loss: 1.0080\n",
            "\n",
            "Epoch 00049: val_loss did not improve from 0.96889\n",
            "\n",
            "Testing loss: 1.0162237606048583\n",
            "\n",
            "Epoch 50/100\n",
            "3349/3349 [==============================] - 1s 155us/step - loss: 1.0638 - val_loss: 0.9771\n",
            "\n",
            "Epoch 00050: val_loss did not improve from 0.96889\n",
            "\n",
            "Testing loss: 0.9875509052276611\n",
            "\n",
            "Epoch 51/100\n",
            "3349/3349 [==============================] - 1s 156us/step - loss: 1.0602 - val_loss: 0.9821\n"
          ],
          "name": "stdout"
        },
        {
          "output_type": "stream",
          "text": [
            "\n",
            "Epoch 00051: val_loss did not improve from 0.96889\n",
            "\n",
            "Testing loss: 0.9939860754013061\n",
            "\n",
            "Epoch 52/100\n",
            "3349/3349 [==============================] - 1s 158us/step - loss: 1.0625 - val_loss: 0.9936\n",
            "\n",
            "Epoch 00052: val_loss did not improve from 0.96889\n",
            "\n",
            "Testing loss: 1.0017740230560304\n",
            "\n",
            "Epoch 53/100\n",
            "3349/3349 [==============================] - 1s 153us/step - loss: 1.0539 - val_loss: 0.9702\n",
            "\n",
            "Epoch 00053: val_loss did not improve from 0.96889\n",
            "\n",
            "Testing loss: 0.9713393144607544\n",
            "\n",
            "Epoch 54/100\n",
            "3349/3349 [==============================] - 1s 155us/step - loss: 1.0542 - val_loss: 0.9599\n",
            "\n",
            "Epoch 00054: val_loss improved from 0.96889 to 0.95995, saving model to weights.best.hdf5\n",
            "\n",
            "Testing loss: 0.96700217628479\n",
            "\n",
            "Epoch 55/100\n",
            "3349/3349 [==============================] - 1s 155us/step - loss: 1.0557 - val_loss: 0.9930\n",
            "\n",
            "Epoch 00055: val_loss did not improve from 0.95995\n",
            "\n",
            "Testing loss: 1.0000628309249877\n",
            "\n",
            "Epoch 56/100\n",
            "3349/3349 [==============================] - 1s 156us/step - loss: 1.0585 - val_loss: 0.9706\n",
            "\n",
            "Epoch 00056: val_loss did not improve from 0.95995\n",
            "\n",
            "Testing loss: 0.9812438387870789\n",
            "\n",
            "Epoch 57/100\n",
            "3349/3349 [==============================] - 1s 157us/step - loss: 1.0472 - val_loss: 0.9520\n",
            "\n",
            "Epoch 00057: val_loss improved from 0.95995 to 0.95202, saving model to weights.best.hdf5\n",
            "\n",
            "Testing loss: 0.9577565803527832\n",
            "\n",
            "Epoch 58/100\n",
            "3349/3349 [==============================] - 1s 151us/step - loss: 1.0579 - val_loss: 0.9669\n",
            "\n",
            "Epoch 00058: val_loss did not improve from 0.95202\n",
            "\n",
            "Testing loss: 0.9799474220275879\n",
            "\n",
            "Epoch 59/100\n",
            "3349/3349 [==============================] - 1s 155us/step - loss: 1.0592 - val_loss: 0.9301\n",
            "\n",
            "Epoch 00059: val_loss improved from 0.95202 to 0.93012, saving model to weights.best.hdf5\n",
            "\n",
            "Testing loss: 0.937455936908722\n",
            "\n",
            "Epoch 60/100\n",
            "3349/3349 [==============================] - 1s 152us/step - loss: 1.0478 - val_loss: 0.9212\n",
            "\n",
            "Epoch 00060: val_loss improved from 0.93012 to 0.92117, saving model to weights.best.hdf5\n",
            "\n",
            "Testing loss: 0.9275601925849914\n",
            "\n",
            "Epoch 61/100\n",
            "3349/3349 [==============================] - 1s 153us/step - loss: 1.0385 - val_loss: 0.9462\n",
            "\n",
            "Epoch 00061: val_loss did not improve from 0.92117\n",
            "\n",
            "Testing loss: 0.9496138634681701\n",
            "\n",
            "Epoch 62/100\n",
            "3349/3349 [==============================] - 1s 151us/step - loss: 1.0383 - val_loss: 0.9360\n",
            "\n",
            "Epoch 00062: val_loss did not improve from 0.92117\n",
            "\n",
            "Testing loss: 0.9429318356513977\n",
            "\n",
            "Epoch 63/100\n",
            "3349/3349 [==============================] - 1s 153us/step - loss: 1.0373 - val_loss: 0.9331\n",
            "\n",
            "Epoch 00063: val_loss did not improve from 0.92117\n",
            "\n",
            "Testing loss: 0.9366036629676819\n",
            "\n",
            "Epoch 64/100\n",
            "2700/3349 [=======================>......] - ETA: 0s - loss: 1.0380"
          ],
          "name": "stdout"
        },
        {
          "output_type": "stream",
          "text": [
            "\b\b\b\b\b\b\b\b\b\b\b\b\b\b\b\b\b\b\b\b\b\b\b\b\b\b\b\b\b\b\b\b\b\b\b\b\b\b\b\b\b\b\b\b\b\b\b\b\b\b\b\b\b\b\b\b\b\b\b\b\b\b\b\b\b\b\b\r3349/3349 [==============================] - 1s 154us/step - loss: 1.0349 - val_loss: 0.9405\n",
            "\n",
            "Epoch 00064: val_loss did not improve from 0.92117\n",
            "\n",
            "Testing loss: 0.9468780469894409\n",
            "\n",
            "Epoch 65/100\n",
            "3349/3349 [==============================] - 1s 156us/step - loss: 1.0282 - val_loss: 0.9610\n",
            "\n",
            "Epoch 00065: val_loss did not improve from 0.92117\n",
            "\n",
            "Testing loss: 0.9695550384521484\n",
            "\n",
            "Epoch 66/100\n",
            "3349/3349 [==============================] - 1s 156us/step - loss: 1.0210 - val_loss: 0.9455\n",
            "\n",
            "Epoch 00066: val_loss did not improve from 0.92117\n",
            "\n",
            "Testing loss: 0.9530234446525574\n",
            "\n",
            "Epoch 67/100\n",
            "3349/3349 [==============================] - 1s 155us/step - loss: 1.0237 - val_loss: 0.9149\n",
            "\n",
            "Epoch 00067: val_loss improved from 0.92117 to 0.91486, saving model to weights.best.hdf5\n",
            "\n",
            "Testing loss: 0.9211967477798462\n",
            "\n",
            "Epoch 68/100\n",
            "3349/3349 [==============================] - 1s 154us/step - loss: 1.0211 - val_loss: 0.9773\n",
            "\n",
            "Epoch 00068: val_loss did not improve from 0.91486\n",
            "\n",
            "Testing loss: 0.9852739009857178\n",
            "\n",
            "Epoch 69/100\n",
            "3349/3349 [==============================] - 1s 157us/step - loss: 1.0347 - val_loss: 0.9246\n",
            "\n",
            "Epoch 00069: val_loss did not improve from 0.91486\n",
            "\n",
            "Testing loss: 0.9315819349288941\n",
            "\n",
            "Epoch 70/100\n",
            "3349/3349 [==============================] - 1s 153us/step - loss: 1.0449 - val_loss: 0.9526\n",
            "\n",
            "Epoch 00070: val_loss did not improve from 0.91486\n",
            "\n",
            "Testing loss: 0.9580988454818725\n",
            "\n",
            "Epoch 71/100\n",
            "3349/3349 [==============================] - 1s 157us/step - loss: 1.0458 - val_loss: 0.9749\n",
            "\n",
            "Epoch 00071: val_loss did not improve from 0.91486\n",
            "\n",
            "Testing loss: 0.9829843330383301\n",
            "\n",
            "Epoch 72/100\n",
            "3349/3349 [==============================] - 1s 153us/step - loss: 1.0439 - val_loss: 0.9925\n",
            "\n",
            "Epoch 00072: val_loss did not improve from 0.91486\n",
            "\n",
            "Testing loss: 1.0031998767852783\n",
            "\n",
            "Epoch 73/100\n",
            "3349/3349 [==============================] - 1s 155us/step - loss: 1.0340 - val_loss: 0.9590\n",
            "\n",
            "Epoch 00073: val_loss did not improve from 0.91486\n",
            "\n",
            "Testing loss: 0.9709723682403565\n",
            "\n",
            "Epoch 74/100\n",
            "3349/3349 [==============================] - 1s 157us/step - loss: 1.0313 - val_loss: 0.9504\n",
            "\n",
            "Epoch 00074: val_loss did not improve from 0.91486\n",
            "\n",
            "Testing loss: 0.9561148862838745\n",
            "\n",
            "Epoch 75/100\n",
            "3349/3349 [==============================] - 1s 155us/step - loss: 1.0223 - val_loss: 0.9495\n",
            "\n",
            "Epoch 00075: val_loss did not improve from 0.91486\n",
            "\n",
            "Testing loss: 0.949197546005249\n",
            "\n",
            "Epoch 76/100\n",
            "3349/3349 [==============================] - 1s 155us/step - loss: 1.0165 - val_loss: 0.9254\n"
          ],
          "name": "stdout"
        },
        {
          "output_type": "stream",
          "text": [
            "\n",
            "Epoch 00076: val_loss did not improve from 0.91486\n",
            "\n",
            "Testing loss: 0.9347025518417358\n",
            "\n",
            "Epoch 77/100\n",
            "3349/3349 [==============================] - 1s 156us/step - loss: 1.0079 - val_loss: 0.9183\n",
            "\n",
            "Epoch 00077: val_loss did not improve from 0.91486\n",
            "\n",
            "Testing loss: 0.9245201196670533\n",
            "\n",
            "Epoch 78/100\n",
            "3349/3349 [==============================] - 1s 155us/step - loss: 1.0055 - val_loss: 0.9176\n",
            "\n",
            "Epoch 00078: val_loss did not improve from 0.91486\n",
            "\n",
            "Testing loss: 0.9312765226364136\n",
            "\n",
            "Epoch 79/100\n",
            "3349/3349 [==============================] - 1s 154us/step - loss: 0.9988 - val_loss: 0.9150\n",
            "\n",
            "Epoch 00079: val_loss did not improve from 0.91486\n",
            "\n",
            "Testing loss: 0.923883973121643\n",
            "\n",
            "Epoch 80/100\n",
            "3349/3349 [==============================] - 1s 156us/step - loss: 0.9983 - val_loss: 0.9719\n",
            "\n",
            "Epoch 00080: val_loss did not improve from 0.91486\n",
            "\n",
            "Testing loss: 0.9858853511810303\n",
            "\n",
            "Epoch 81/100\n",
            "3349/3349 [==============================] - 1s 154us/step - loss: 1.0260 - val_loss: 0.9747\n",
            "\n",
            "Epoch 00081: val_loss did not improve from 0.91486\n",
            "\n",
            "Testing loss: 0.9866022472381591\n",
            "\n",
            "Epoch 82/100\n",
            "3349/3349 [==============================] - 1s 154us/step - loss: 1.0228 - val_loss: 0.9024\n",
            "\n",
            "Epoch 00082: val_loss improved from 0.91486 to 0.90239, saving model to weights.best.hdf5\n",
            "\n",
            "Testing loss: 0.9059693608283996\n",
            "\n",
            "Epoch 83/100\n",
            "3349/3349 [==============================] - 1s 152us/step - loss: 1.0150 - val_loss: 0.9505\n",
            "\n",
            "Epoch 00083: val_loss did not improve from 0.90239\n",
            "\n",
            "Testing loss: 0.9570381965637207\n",
            "\n",
            "Epoch 84/100\n",
            "3349/3349 [==============================] - 1s 156us/step - loss: 1.0224 - val_loss: 0.9138\n",
            "\n",
            "Epoch 00084: val_loss did not improve from 0.90239\n",
            "\n",
            "Testing loss: 0.9182653799057007\n",
            "\n",
            "Epoch 85/100\n",
            "3349/3349 [==============================] - 1s 154us/step - loss: 1.0027 - val_loss: 0.9398\n",
            "\n",
            "Epoch 00085: val_loss did not improve from 0.90239\n",
            "\n",
            "Testing loss: 0.9492852268218994\n",
            "\n",
            "Epoch 86/100\n",
            "3349/3349 [==============================] - 1s 156us/step - loss: 0.9993 - val_loss: 0.9180\n",
            "\n",
            "Epoch 00086: val_loss did not improve from 0.90239\n",
            "\n",
            "Testing loss: 0.9195381226539612\n",
            "\n",
            "Epoch 87/100\n",
            "3349/3349 [==============================] - 1s 153us/step - loss: 0.9979 - val_loss: 0.9197\n",
            "\n",
            "Epoch 00087: val_loss did not improve from 0.90239\n",
            "\n",
            "Testing loss: 0.9255247611999512\n",
            "\n",
            "Epoch 88/100\n",
            "3349/3349 [==============================] - 1s 157us/step - loss: 1.0009 - val_loss: 0.8968\n",
            "\n",
            "Epoch 00088: val_loss improved from 0.90239 to 0.89680, saving model to weights.best.hdf5\n",
            "\n",
            "Testing loss: 0.9014937582015992\n",
            "\n",
            "Epoch 89/100\n",
            "3349/3349 [==============================] - 1s 154us/step - loss: 0.9948 - val_loss: 0.8911\n"
          ],
          "name": "stdout"
        },
        {
          "output_type": "stream",
          "text": [
            "\n",
            "Epoch 00089: val_loss improved from 0.89680 to 0.89111, saving model to weights.best.hdf5\n",
            "\n",
            "Testing loss: 0.8982323942184448\n",
            "\n",
            "Epoch 90/100\n",
            "3349/3349 [==============================] - 1s 152us/step - loss: 0.9928 - val_loss: 0.8944\n",
            "\n",
            "Epoch 00090: val_loss did not improve from 0.89111\n",
            "\n",
            "Testing loss: 0.8985937576293945\n",
            "\n",
            "Epoch 91/100\n",
            "3349/3349 [==============================] - 1s 152us/step - loss: 0.9899 - val_loss: 0.9057\n",
            "\n",
            "Epoch 00091: val_loss did not improve from 0.89111\n",
            "\n",
            "Testing loss: 0.9112135071754456\n",
            "\n",
            "Epoch 92/100\n",
            "3349/3349 [==============================] - 1s 153us/step - loss: 0.9898 - val_loss: 0.9064\n",
            "\n",
            "Epoch 00092: val_loss did not improve from 0.89111\n",
            "\n",
            "Testing loss: 0.9151880016326904\n",
            "\n",
            "Epoch 93/100\n",
            "3349/3349 [==============================] - 1s 152us/step - loss: 0.9969 - val_loss: 0.9098\n",
            "\n",
            "Epoch 00093: val_loss did not improve from 0.89111\n",
            "\n",
            "Testing loss: 0.9151767597198487\n",
            "\n",
            "Epoch 94/100\n",
            "3349/3349 [==============================] - 1s 155us/step - loss: 1.0155 - val_loss: 0.9283\n",
            "\n",
            "Epoch 00094: val_loss did not improve from 0.89111\n",
            "\n",
            "Testing loss: 0.9372896237373352\n",
            "\n",
            "Epoch 95/100\n",
            "3349/3349 [==============================] - 1s 153us/step - loss: 0.9993 - val_loss: 0.9418\n",
            "\n",
            "Epoch 00095: val_loss did not improve from 0.89111\n",
            "\n",
            "Testing loss: 0.9504293251037598\n",
            "\n",
            "Epoch 96/100\n",
            "3349/3349 [==============================] - 1s 153us/step - loss: 1.0025 - val_loss: 0.8852\n",
            "\n",
            "Epoch 00096: val_loss improved from 0.89111 to 0.88518, saving model to weights.best.hdf5\n",
            "\n",
            "Testing loss: 0.8832905788421631\n",
            "\n",
            "Epoch 97/100\n",
            "3349/3349 [==============================] - 1s 154us/step - loss: 0.9975 - val_loss: 0.9291\n",
            "\n",
            "Epoch 00097: val_loss did not improve from 0.88518\n",
            "\n",
            "Testing loss: 0.9331091995239258\n",
            "\n",
            "Epoch 98/100\n",
            "3349/3349 [==============================] - 1s 158us/step - loss: 1.0027 - val_loss: 0.9042\n",
            "\n",
            "Epoch 00098: val_loss did not improve from 0.88518\n",
            "\n",
            "Testing loss: 0.9138909320831299\n",
            "\n",
            "Epoch 99/100\n",
            "3349/3349 [==============================] - 1s 155us/step - loss: 1.0105 - val_loss: 0.8777\n",
            "\n",
            "Epoch 00099: val_loss improved from 0.88518 to 0.87774, saving model to weights.best.hdf5\n",
            "\n",
            "Testing loss: 0.8833256063461303\n",
            "\n",
            "Epoch 100/100\n",
            "3349/3349 [==============================] - 1s 153us/step - loss: 0.9966 - val_loss: 0.9001\n",
            "\n",
            "Epoch 00100: val_loss did not improve from 0.87774\n",
            "\n",
            "Testing loss: 0.9060087475776673\n",
            "\n"
          ],
          "name": "stdout"
        }
      ]
    },
    {
      "metadata": {
        "id": "_nPvpCnXMCsP",
        "colab_type": "text"
      },
      "cell_type": "markdown",
      "source": [
        "#### Plot\n",
        "Plotting train, validation and test errors. It can be observed that because of dropout, the model is not overfit and validation and test errors are very similar and hence overlap."
      ]
    },
    {
      "metadata": {
        "id": "Het1n-OzzUdd",
        "colab_type": "code",
        "colab": {
          "autoexec": {
            "startup": false,
            "wait_interval": 0
          },
          "base_uri": "https://localhost:8080/",
          "height": 497
        },
        "outputId": "03f2b3cb-42da-4d21-9b2d-ee81decf57ba",
        "executionInfo": {
          "status": "ok",
          "timestamp": 1525259003092,
          "user_tz": 420,
          "elapsed": 566,
          "user": {
            "displayName": "Shashwat Razdan",
            "photoUrl": "https://lh3.googleusercontent.com/a/default-user=s128",
            "userId": "102846678378507051745"
          }
        }
      },
      "cell_type": "code",
      "source": [
        "width = 20\n",
        "height = 8\n",
        "plt.figure(figsize=(width, height))\n",
        "plt.plot(history.history['loss'], label='Training Loss')\n",
        "plt.plot(history.history['val_loss'], label='Validation Loss', linewidth=4.0)\n",
        "plt.plot(test_callback.return_test(), label='Test Loss')\n",
        "plt.legend()\n",
        "plt.ylabel('Loss')\n",
        "plt.xlabel('Epochs')\n",
        "plt.show()"
      ],
      "execution_count": 64,
      "outputs": [
        {
          "output_type": "display_data",
          "data": {
            "image/png": "[encoded data removed]",
            "text/plain": [
              "<matplotlib.figure.Figure at 0x7f2540ece390>"
            ]
          },
          "metadata": {
            "tags": []
          }
        }
      ]
    },
    {
      "metadata": {
        "id": "j44BjQZNMiTw",
        "colab_type": "text"
      },
      "cell_type": "markdown",
      "source": [
        "Method to take model's prediction and convert it into a printable np array."
      ]
    },
    {
      "metadata": {
        "id": "lsZwrcrTqa7Z",
        "colab_type": "code",
        "colab": {
          "autoexec": {
            "startup": false,
            "wait_interval": 0
          }
        }
      },
      "cell_type": "code",
      "source": [
        "def print_output_image(vec, center_colors):\n",
        "  img = np.empty((vec.shape[0], 3))\n",
        "  for index, pixel in enumerate(vec):\n",
        "    idx = np.where(pixel == max(pixel))\n",
        "    img[index] = center_colors[idx]\n",
        "  img = np.uint8(img.reshape(32, 32, 3))\n",
        "\n",
        "  return img"
      ],
      "execution_count": 0,
      "outputs": []
    },
    {
      "metadata": {
        "id": "1h75tk0INZEJ",
        "colab_type": "text"
      },
      "cell_type": "markdown",
      "source": [
        "We load the best weights into the regressor and then evaluate on train and test accuracy"
      ]
    },
    {
      "metadata": {
        "id": "tsOoTfCkNAcH",
        "colab_type": "code",
        "colab": {
          "autoexec": {
            "startup": false,
            "wait_interval": 0
          },
          "base_uri": "https://localhost:8080/",
          "height": 51
        },
        "outputId": "aa9927c3-61e5-428d-943e-213cee1ec815",
        "executionInfo": {
          "status": "ok",
          "timestamp": 1525257286352,
          "user_tz": 420,
          "elapsed": 2108,
          "user": {
            "displayName": "Shashwat Razdan",
            "photoUrl": "https://lh3.googleusercontent.com/a/default-user=s128",
            "userId": "102846678378507051745"
          }
        }
      },
      "cell_type": "code",
      "source": [
        "regressor.load_weights(\"weights.best.hdf5\")\n",
        "print(\"Best train loss :\", regressor.evaluate(nn_input, nn_output, verbose=0))\n",
        "print(\"Best test loss  :\", regressor.evaluate(nn_input_test, nn_output_test, verbose=0))"
      ],
      "execution_count": 51,
      "outputs": [
        {
          "output_type": "stream",
          "text": [
            "Best train loss : 0.8294595865249634\n",
            "Best test loss  : 0.8833256063461303\n"
          ],
          "name": "stdout"
        }
      ]
    },
    {
      "metadata": {
        "id": "07i1UbTza01p",
        "colab_type": "text"
      },
      "cell_type": "markdown",
      "source": [
        "Please keep in mind that this loss is not on a scale of 0-1 but rather, on a scale 0-1024(I think so.) Loss will be 1024 when every pixel is predicted incorrectly. "
      ]
    },
    {
      "metadata": {
        "id": "Sx0zm15jMrGN",
        "colab_type": "text"
      },
      "cell_type": "markdown",
      "source": [
        "### Print 10 test images\n",
        "We predict first 10 images in the test set. <br>\n",
        "Then, we print them side by side with the original k-color image for observation.\n"
      ]
    },
    {
      "metadata": {
        "id": "rWaD3EwvcFdL",
        "colab_type": "code",
        "colab": {
          "autoexec": {
            "startup": false,
            "wait_interval": 0
          },
          "base_uri": "https://localhost:8080/",
          "height": 1789
        },
        "outputId": "c0a4e770-c2d6-4043-9b34-4fa5620b6b6d",
        "executionInfo": {
          "status": "ok",
          "timestamp": 1525257374053,
          "user_tz": 420,
          "elapsed": 3739,
          "user": {
            "displayName": "Shashwat Razdan",
            "photoUrl": "https://lh3.googleusercontent.com/a/default-user=s128",
            "userId": "102846678378507051745"
          }
        }
      },
      "cell_type": "code",
      "source": [
        "pred = regressor.predict(nn_input_test[:10])\n",
        "f,ax = plt.subplots(len(pred), 2, figsize=(32,32))\n",
        "for i in range(len(pred)):\n",
        "    ax[i][0].imshow(kmeans_colored[i].reshape(32, 32, 3))\n",
        "    ax[i][1].imshow(print_output_image(pred[i], center_colors))\n",
        "plt.show()\n"
      ],
      "execution_count": 52,
      "outputs": [
        {
          "output_type": "display_data",
          "data": {
            "image/png": "[encoded data removed]",
            "text/plain": [
              "<matplotlib.figure.Figure at 0x7f25460ea400>"
            ]
          },
          "metadata": {
            "tags": []
          }
        }
      ]
    }
  ]
}