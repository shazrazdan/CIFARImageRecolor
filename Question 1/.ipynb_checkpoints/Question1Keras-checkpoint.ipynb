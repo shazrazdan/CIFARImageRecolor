{
 "cells": [
  {
   "cell_type": "code",
   "execution_count": 1,
   "metadata": {
    "colab": {
     "autoexec": {
      "startup": false,
      "wait_interval": 0
     }
    },
    "colab_type": "code",
    "id": "9MpjSzf6W15D"
   },
   "outputs": [
    {
     "name": "stderr",
     "output_type": "stream",
     "text": [
      "/root/anaconda3/lib/python3.6/site-packages/h5py/__init__.py:36: FutureWarning: Conversion of the second argument of issubdtype from `float` to `np.floating` is deprecated. In future, it will be treated as `np.float64 == np.dtype(float).type`.\n",
      "  from ._conv import register_converters as _register_converters\n",
      "Using TensorFlow backend.\n"
     ]
    }
   ],
   "source": [
    "import numpy as np\n",
    "import pandas as pd\n",
    "from keras.models import Sequential\n",
    "from keras.layers import Dense\n",
    "from keras.layers import LSTM\n",
    "from keras.layers import Dropout\n",
    "from keras.optimizers import Adam\n",
    "import time\n",
    "from keras.callbacks import ModelCheckpoint\n",
    "#from google.colab import files"
   ]
  },
  {
   "cell_type": "code",
   "execution_count": 2,
   "metadata": {
    "colab": {
     "autoexec": {
      "startup": false,
      "wait_interval": 0
     },
     "base_uri": "https://localhost:8080/",
     "height": 306
    },
    "colab_type": "code",
    "executionInfo": {
     "elapsed": 397,
     "status": "ok",
     "timestamp": 1524528994236,
     "user": {
      "displayName": "Shashwat Razdan",
      "photoUrl": "//lh3.googleusercontent.com/-uysMKqw2z1w/AAAAAAAAAAI/AAAAAAAApxk/W-ioq74c-Qg/s50-c-k-no/photo.jpg",
      "userId": "111186949356327872675"
     },
     "user_tz": 420
    },
    "id": "pX2QiJMzXB45",
    "outputId": "7c2c78bd-d29d-4094-b94a-586d353fda1c"
   },
   "outputs": [
    {
     "name": "stdout",
     "output_type": "stream",
     "text": [
      "[name: \"/cpu:0\"\n",
      "device_type: \"CPU\"\n",
      "memory_limit: 268435456\n",
      "locality {\n",
      "}\n",
      "incarnation: 8257541276460086281\n",
      ", name: \"/gpu:0\"\n",
      "device_type: \"GPU\"\n",
      "memory_limit: 1864105984\n",
      "locality {\n",
      "  bus_id: 1\n",
      "}\n",
      "incarnation: 11969806349160739090\n",
      "physical_device_desc: \"device: 0, name: GeForce GT 730, pci bus id: 0000:02:00.0\"\n",
      "]\n"
     ]
    }
   ],
   "source": [
    "from tensorflow.python.client import device_lib\n",
    "\n",
    "print(device_lib.list_local_devices())"
   ]
  },
  {
   "cell_type": "code",
   "execution_count": 3,
   "metadata": {
    "colab": {
     "autoexec": {
      "startup": false,
      "wait_interval": 0
     }
    },
    "colab_type": "code",
    "id": "Cc6DZOxzW15I"
   },
   "outputs": [],
   "source": [
    "window_size = 100"
   ]
  },
  {
   "cell_type": "code",
   "execution_count": 4,
   "metadata": {
    "colab": {
     "autoexec": {
      "startup": false,
      "wait_interval": 0
     },
     "base_uri": "https://localhost:8080/",
     "height": 86,
     "resources": {
      "http://localhost:8080/nbextensions/google.colab/files.js": {
       "data": "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",
       "headers": [
        [
         "content-type",
         "application/javascript"
        ]
       ],
       "ok": true,
       "status": 200,
       "status_text": ""
      }
     }
    },
    "colab_type": "code",
    "executionInfo": {
     "elapsed": 21442,
     "status": "ok",
     "timestamp": 1524519765074,
     "user": {
      "displayName": "Shashwat Razdan",
      "photoUrl": "//lh3.googleusercontent.com/-uysMKqw2z1w/AAAAAAAAAAI/AAAAAAAApxk/W-ioq74c-Qg/s50-c-k-no/photo.jpg",
      "userId": "111186949356327872675"
     },
     "user_tz": 420
    },
    "id": "FmL05ks2Xe-0",
    "outputId": "9bfc9cf7-17da-4c0d-a35a-bf171ba5b77a"
   },
   "outputs": [],
   "source": [
    "# from google.colab import files\n",
    "# uploaded = files.upload()\n",
    "# for fn in uploaded.keys():\n",
    "#   print('User uploaded file \"{name}\" with length {length} bytes'.format(name=fn, length=len(uploaded[fn])))"
   ]
  },
  {
   "cell_type": "code",
   "execution_count": 5,
   "metadata": {
    "colab": {
     "autoexec": {
      "startup": false,
      "wait_interval": 0
     },
     "base_uri": "https://localhost:8080/",
     "height": 34
    },
    "colab_type": "code",
    "executionInfo": {
     "elapsed": 492,
     "status": "ok",
     "timestamp": 1524529003397,
     "user": {
      "displayName": "Shashwat Razdan",
      "photoUrl": "//lh3.googleusercontent.com/-uysMKqw2z1w/AAAAAAAAAAI/AAAAAAAApxk/W-ioq74c-Qg/s50-c-k-no/photo.jpg",
      "userId": "111186949356327872675"
     },
     "user_tz": 420
    },
    "id": "wD2eofFFW15K",
    "outputId": "8a400f72-b605-4656-ae31-69bc9f833713"
   },
   "outputs": [
    {
     "data": {
      "text/plain": [
       "'number of chars = 400000'"
      ]
     },
     "execution_count": 5,
     "metadata": {},
     "output_type": "execute_result"
    }
   ],
   "source": [
    "inp = \"\"\n",
    "linecount = 0\n",
    "with open(\"corpus.txt\", encoding=\"utf-8\") as fileobj:\n",
    "    for line in fileobj: \n",
    "        inp += \" \" + line[:-1]\n",
    "inp = inp[:400000]\n",
    "\"number of chars = \" + str(len(inp))"
   ]
  },
  {
   "cell_type": "code",
   "execution_count": 6,
   "metadata": {
    "colab": {
     "autoexec": {
      "startup": false,
      "wait_interval": 0
     },
     "base_uri": "https://localhost:8080/",
     "height": 139
    },
    "colab_type": "code",
    "executionInfo": {
     "elapsed": 492,
     "status": "ok",
     "timestamp": 1524529006084,
     "user": {
      "displayName": "Shashwat Razdan",
      "photoUrl": "//lh3.googleusercontent.com/-uysMKqw2z1w/AAAAAAAAAAI/AAAAAAAApxk/W-ioq74c-Qg/s50-c-k-no/photo.jpg",
      "userId": "111186949356327872675"
     },
     "user_tz": 420
    },
    "id": "48m6RNVDW15Q",
    "outputId": "90a72f92-ea13-4665-c4f7-b46f29030907"
   },
   "outputs": [
    {
     "name": "stdout",
     "output_type": "stream",
     "text": [
      "Number of unique chars = 87\n",
      "[' ', '!', '\"', '&', \"'\", '(', ')', '+', ',', '-', '.', '0', '1', '2', '3', '4', '5', '6', '7', '8', '9', ':', ';', '=', '?', 'A', 'B', 'C', 'D', 'E', 'F', 'G', 'H', 'I', 'J', 'K', 'L', 'M', 'N', 'O', 'P', 'Q', 'R', 'S', 'T', 'U', 'V', 'W', 'X', 'Y', 'Z', '[', ']', '_', 'a', 'b', 'c', 'd', 'e', 'f', 'g', 'h', 'i', 'j', 'k', 'l', 'm', 'n', 'o', 'p', 'q', 'r', 's', 't', 'u', 'v', 'w', 'x', 'y', 'z', 'æ', 'é', 'î', 'ï', 'ö', 'ü', 'œ']\n",
      "\n",
      "{' ': 0, '!': 1, '\"': 2, '&': 3, \"'\": 4, '(': 5, ')': 6, '+': 7, ',': 8, '-': 9, '.': 10, '0': 11, '1': 12, '2': 13, '3': 14, '4': 15, '5': 16, '6': 17, '7': 18, '8': 19, '9': 20, ':': 21, ';': 22, '=': 23, '?': 24, 'A': 25, 'B': 26, 'C': 27, 'D': 28, 'E': 29, 'F': 30, 'G': 31, 'H': 32, 'I': 33, 'J': 34, 'K': 35, 'L': 36, 'M': 37, 'N': 38, 'O': 39, 'P': 40, 'Q': 41, 'R': 42, 'S': 43, 'T': 44, 'U': 45, 'V': 46, 'W': 47, 'X': 48, 'Y': 49, 'Z': 50, '[': 51, ']': 52, '_': 53, 'a': 54, 'b': 55, 'c': 56, 'd': 57, 'e': 58, 'f': 59, 'g': 60, 'h': 61, 'i': 62, 'j': 63, 'k': 64, 'l': 65, 'm': 66, 'n': 67, 'o': 68, 'p': 69, 'q': 70, 'r': 71, 's': 72, 't': 73, 'u': 74, 'v': 75, 'w': 76, 'x': 77, 'y': 78, 'z': 79, 'æ': 80, 'é': 81, 'î': 82, 'ï': 83, 'ö': 84, 'ü': 85, 'œ': 86}\n",
      "\n",
      "{0: ' ', 1: '!', 2: '\"', 3: '&', 4: \"'\", 5: '(', 6: ')', 7: '+', 8: ',', 9: '-', 10: '.', 11: '0', 12: '1', 13: '2', 14: '3', 15: '4', 16: '5', 17: '6', 18: '7', 19: '8', 20: '9', 21: ':', 22: ';', 23: '=', 24: '?', 25: 'A', 26: 'B', 27: 'C', 28: 'D', 29: 'E', 30: 'F', 31: 'G', 32: 'H', 33: 'I', 34: 'J', 35: 'K', 36: 'L', 37: 'M', 38: 'N', 39: 'O', 40: 'P', 41: 'Q', 42: 'R', 43: 'S', 44: 'T', 45: 'U', 46: 'V', 47: 'W', 48: 'X', 49: 'Y', 50: 'Z', 51: '[', 52: ']', 53: '_', 54: 'a', 55: 'b', 56: 'c', 57: 'd', 58: 'e', 59: 'f', 60: 'g', 61: 'h', 62: 'i', 63: 'j', 64: 'k', 65: 'l', 66: 'm', 67: 'n', 68: 'o', 69: 'p', 70: 'q', 71: 'r', 72: 's', 73: 't', 74: 'u', 75: 'v', 76: 'w', 77: 'x', 78: 'y', 79: 'z', 80: 'æ', 81: 'é', 82: 'î', 83: 'ï', 84: 'ö', 85: 'ü', 86: 'œ'}\n"
     ]
    }
   ],
   "source": [
    "unique_chars = list(set(inp))\n",
    "unique_idx = []\n",
    "for char in unique_chars:\n",
    "    unique_idx.append(ord(char))\n",
    "\n",
    "unique_idx = sorted(unique_idx)\n",
    "\n",
    "unique_chars = []\n",
    "for idx in unique_idx:\n",
    "    unique_chars.append(chr(idx))\n",
    "\n",
    "print(\"Number of unique chars =\", len(unique_chars))\n",
    "print(unique_chars)\n",
    "char_to_ix = {}\n",
    "ix_to_char = {}\n",
    "print()\n",
    "\n",
    "for index, char in enumerate(unique_chars):\n",
    "    char_to_ix[char] = index\n",
    "    ix_to_char[index] = char\n",
    "    \n",
    "print(char_to_ix)\n",
    "print()\n",
    "print(ix_to_char)"
   ]
  },
  {
   "cell_type": "code",
   "execution_count": 7,
   "metadata": {
    "colab": {
     "autoexec": {
      "startup": false,
      "wait_interval": 0
     },
     "base_uri": "https://localhost:8080/",
     "height": 34
    },
    "colab_type": "code",
    "executionInfo": {
     "elapsed": 306,
     "status": "ok",
     "timestamp": 1524529009229,
     "user": {
      "displayName": "Shashwat Razdan",
      "photoUrl": "//lh3.googleusercontent.com/-uysMKqw2z1w/AAAAAAAAAAI/AAAAAAAApxk/W-ioq74c-Qg/s50-c-k-no/photo.jpg",
      "userId": "111186949356327872675"
     },
     "user_tz": 420
    },
    "id": "MrPRkjHkW15U",
    "outputId": "2ecbf733-9018-4aab-9590-30ac590e3a94"
   },
   "outputs": [
    {
     "name": "stdout",
     "output_type": "stream",
     "text": [
      "[0.         0.45977011 0.81609195 ... 0.68965517 0.09195402 0.        ]\n"
     ]
    }
   ],
   "source": [
    "lstm_input = []\n",
    "for char in inp:\n",
    "    lstm_input.append(char_to_ix[char])\n",
    "lstm_input = np.array(lstm_input)\n",
    "lstm_input_scaled = lstm_input / len(unique_chars)\n",
    "print(lstm_input_scaled)"
   ]
  },
  {
   "cell_type": "code",
   "execution_count": 8,
   "metadata": {
    "colab": {
     "autoexec": {
      "startup": false,
      "wait_interval": 0
     },
     "base_uri": "https://localhost:8080/",
     "height": 34
    },
    "colab_type": "code",
    "executionInfo": {
     "elapsed": 323,
     "status": "ok",
     "timestamp": 1524529012207,
     "user": {
      "displayName": "Shashwat Razdan",
      "photoUrl": "//lh3.googleusercontent.com/-uysMKqw2z1w/AAAAAAAAAAI/AAAAAAAApxk/W-ioq74c-Qg/s50-c-k-no/photo.jpg",
      "userId": "111186949356327872675"
     },
     "user_tz": 420
    },
    "id": "lDk8wNRyW15Y",
    "outputId": "efb57b83-d01a-4625-f00e-cb3069db805d"
   },
   "outputs": [
    {
     "name": "stdout",
     "output_type": "stream",
     "text": [
      "[ 0 40 71 ... 60  8  0]\n"
     ]
    }
   ],
   "source": [
    "print(lstm_input)"
   ]
  },
  {
   "cell_type": "code",
   "execution_count": 9,
   "metadata": {
    "colab": {
     "autoexec": {
      "startup": false,
      "wait_interval": 0
     }
    },
    "colab_type": "code",
    "id": "t0N3InzFW15b"
   },
   "outputs": [],
   "source": [
    "def get_x_y(inp, lstm_input_scaled, window_size, char_to_ix, ix_to_char, unique_chars):\n",
    "    lstm_inp_stacked = []\n",
    "    lstm_inp_y = []\n",
    "    lstm_input_arr = []\n",
    "    zeros = np.zeros(len(unique_chars))\n",
    "    for i in lstm_input_scaled:\n",
    "        lstm_input_arr.append([i])\n",
    "    for i in range(len(lstm_input)-window_size):\n",
    "        lstm_inp_stacked.append(lstm_input_arr[i:i+window_size-1])\n",
    "        \n",
    "        y = inp[i+window_size-1]\n",
    "        y_ix = char_to_ix[y]\n",
    "        zeros[y_ix] = 1\n",
    "        lstm_inp_y.append(zeros.copy())\n",
    "        zeros[y_ix] = 0\n",
    "    return np.array(lstm_inp_stacked), np.array(lstm_inp_y)"
   ]
  },
  {
   "cell_type": "code",
   "execution_count": 10,
   "metadata": {
    "colab": {
     "autoexec": {
      "startup": false,
      "wait_interval": 0
     },
     "base_uri": "https://localhost:8080/",
     "height": 34
    },
    "colab_type": "code",
    "executionInfo": {
     "elapsed": 16593,
     "status": "ok",
     "timestamp": 1524519857480,
     "user": {
      "displayName": "Shashwat Razdan",
      "photoUrl": "//lh3.googleusercontent.com/-uysMKqw2z1w/AAAAAAAAAAI/AAAAAAAApxk/W-ioq74c-Qg/s50-c-k-no/photo.jpg",
      "userId": "111186949356327872675"
     },
     "user_tz": 420
    },
    "id": "9pSH016EW15e",
    "outputId": "0dee238b-344d-45e7-d7dd-48ef6bc9336e"
   },
   "outputs": [
    {
     "data": {
      "text/plain": [
       "((399900, 99, 1), (399900, 87))"
      ]
     },
     "execution_count": 10,
     "metadata": {},
     "output_type": "execute_result"
    }
   ],
   "source": [
    "lstm_inp_stacked, lstm_inp_y = get_x_y(inp, lstm_input_scaled, window_size, char_to_ix, ix_to_char, unique_chars)\n",
    "lstm_inp_stacked.shape, lstm_inp_y.shape"
   ]
  },
  {
   "cell_type": "code",
   "execution_count": 11,
   "metadata": {
    "colab": {
     "autoexec": {
      "startup": false,
      "wait_interval": 0
     },
     "base_uri": "https://localhost:8080/",
     "height": 34
    },
    "colab_type": "code",
    "executionInfo": {
     "elapsed": 537,
     "status": "ok",
     "timestamp": 1524529018324,
     "user": {
      "displayName": "Shashwat Razdan",
      "photoUrl": "//lh3.googleusercontent.com/-uysMKqw2z1w/AAAAAAAAAAI/AAAAAAAApxk/W-ioq74c-Qg/s50-c-k-no/photo.jpg",
      "userId": "111186949356327872675"
     },
     "user_tz": 420
    },
    "id": "KWIvepWSW15h",
    "outputId": "8d645ae2-c820-48ba-e37b-1a188e9bb192"
   },
   "outputs": [
    {
     "name": "stdout",
     "output_type": "stream",
     "text": [
      "(array([0]),)\n"
     ]
    }
   ],
   "source": [
    "print(np.where(lstm_inp_y[0] == max(lstm_inp_y[0])))"
   ]
  },
  {
   "cell_type": "code",
   "execution_count": 12,
   "metadata": {
    "colab": {
     "autoexec": {
      "startup": false,
      "wait_interval": 0
     }
    },
    "colab_type": "code",
    "id": "3p-6hzEtW15m"
   },
   "outputs": [],
   "source": [
    "def create_model(input_shape, unique_chars):\n",
    "    regressor = Sequential()\n",
    "    regressor.add(LSTM(units = len(unique_chars), return_sequences = False, input_shape = (input_shape, 1)))\n",
    "    \n",
    "    regressor.add(Dropout(0.2))\n",
    "    \n",
    "    regressor.add(Dense(units = len(unique_chars), activation='softmax'))\n",
    "    \n",
    "    optimizer = Adam(lr=0.1, beta_1=0.9, beta_2=0.999, epsilon=None, decay=0, amsgrad=False)\n",
    "    \n",
    "    regressor.compile(optimizer = optimizer, loss = 'categorical_crossentropy')\n",
    "    return regressor"
   ]
  },
  {
   "cell_type": "code",
   "execution_count": 13,
   "metadata": {
    "colab": {
     "autoexec": {
      "startup": false,
      "wait_interval": 0
     }
    },
    "colab_type": "code",
    "id": "KCvGWif2W15p"
   },
   "outputs": [],
   "source": [
    "filepath=\"weights.best.4lac.hdf5\"\n",
    "checkpoint = ModelCheckpoint(filepath, monitor='val_loss', verbose=1, save_best_only=True, mode='min')\n",
    "callbacks_list = [checkpoint]"
   ]
  },
  {
   "cell_type": "code",
   "execution_count": 14,
   "metadata": {
    "colab": {
     "autoexec": {
      "startup": false,
      "wait_interval": 0
     },
     "base_uri": "https://localhost:8080/",
     "height": 34
    },
    "colab_type": "code",
    "executionInfo": {
     "elapsed": 449,
     "status": "ok",
     "timestamp": 1524529661819,
     "user": {
      "displayName": "Shashwat Razdan",
      "photoUrl": "//lh3.googleusercontent.com/-uysMKqw2z1w/AAAAAAAAAAI/AAAAAAAApxk/W-ioq74c-Qg/s50-c-k-no/photo.jpg",
      "userId": "111186949356327872675"
     },
     "user_tz": 420
    },
    "id": "ksjrBOJLW15t",
    "outputId": "7317dd53-4af3-47da-898d-c7688d8fb6bc"
   },
   "outputs": [
    {
     "data": {
      "text/plain": [
       "<keras.models.Sequential at 0x7f433d066630>"
      ]
     },
     "execution_count": 14,
     "metadata": {},
     "output_type": "execute_result"
    }
   ],
   "source": [
    "regressor = create_model(input_shape = window_size-1, unique_chars = unique_chars)\n",
    "regressor"
   ]
  },
  {
   "cell_type": "code",
   "execution_count": 15,
   "metadata": {
    "colab": {
     "autoexec": {
      "startup": false,
      "wait_interval": 0
     },
     "base_uri": "https://localhost:8080/",
     "height": 391
    },
    "colab_type": "code",
    "executionInfo": {
     "elapsed": 147005,
     "status": "ok",
     "timestamp": 1524536489668,
     "user": {
      "displayName": "Shashwat Razdan",
      "photoUrl": "//lh3.googleusercontent.com/-uysMKqw2z1w/AAAAAAAAAAI/AAAAAAAApxk/W-ioq74c-Qg/s50-c-k-no/photo.jpg",
      "userId": "111186949356327872675"
     },
     "user_tz": 420
    },
    "id": "-rWr9uEkC3Hm",
    "outputId": "4f671a41-4538-4a5d-a805-b7337dc36b4a"
   },
   "outputs": [],
   "source": [
    "# regressor.fit(lstm_inp_stacked, lstm_inp_y, validation_split=0.33, epochs=5, shuffle=True, batch_size=10000, callbacks=callbacks_list, verbose=1)"
   ]
  },
  {
   "cell_type": "code",
   "execution_count": 16,
   "metadata": {
    "colab": {
     "autoexec": {
      "startup": false,
      "wait_interval": 0
     },
     "base_uri": "https://localhost:8080/",
     "height": 71
    },
    "colab_type": "code",
    "executionInfo": {
     "elapsed": 1120,
     "status": "ok",
     "timestamp": 1524536971295,
     "user": {
      "displayName": "Shashwat Razdan",
      "photoUrl": "//lh3.googleusercontent.com/-uysMKqw2z1w/AAAAAAAAAAI/AAAAAAAApxk/W-ioq74c-Qg/s50-c-k-no/photo.jpg",
      "userId": "111186949356327872675"
     },
     "user_tz": 420
    },
    "id": "fRS5C6eYW16B",
    "outputId": "fd54ee39-170f-4394-ec75-b86e5828f739"
   },
   "outputs": [
    {
     "name": "stdout",
     "output_type": "stream",
     "text": [
      " ahe paneee  n tf erto save an  e e  tf  edgtn the pane th the e tf   n   tf thesosophystn thesei th thi h w she     tn th   n e oh theete e   n  tf  e    tn  tne e         ah se tf e   tf er    tn     t  oh te  tf  to the rn  e  the  thete   the    of tetw edge of eot   tncene ceth t  oh   to e    \n",
      "(300, 87)\n"
     ]
    }
   ],
   "source": [
    "regressor.load_weights(\"weights.best.4lac.hdf5\")\n",
    "pred = regressor.predict(np.array(lstm_inp_stacked[0:300]))\n",
    "for vec in pred:\n",
    "    print(ix_to_char[np.where(vec == max(vec))[0][0]], end=\"\")\n",
    "print()\n",
    "print(pred.shape)"
   ]
  },
  {
   "cell_type": "code",
   "execution_count": 68,
   "metadata": {
    "colab": {
     "autoexec": {
      "startup": false,
      "wait_interval": 0
     }
    },
    "colab_type": "code",
    "id": "b5QNoXoonEXf"
   },
   "outputs": [],
   "source": [
    "def get_next_char(sequence, regressor, char_to_ix, ix_to_char, unique_chars, window_size):\n",
    "    # processing sequence:\n",
    "    lstm_input_ = []\n",
    "    for char in sequence:\n",
    "        lstm_input_.append(char_to_ix[char])\n",
    "    lstm_input_ = np.array(lstm_input_)\n",
    "    lstm_input_scaled_ = lstm_input_ / len(unique_chars)\n",
    "    lstm_input_scaled_ = [np.array([lstm_input_scaled_[-99:]]).T]\n",
    "    # print(lstm_input_scaled_)\n",
    "    # lstm_inp_stacked_, lstm_inp_y_ = get_x_y(sequence, lstm_input_scaled, window_size, char_to_ix, ix_to_char, unique_chars)\n",
    "    # lstm_inp_stacked_.shape, lstm_inp_y_.shape\n",
    "    # return lstm_inp_stacked_, lstm_inp_y_\n",
    "    pred = regressor.predict(np.array(lstm_input_scaled_))\n",
    "    return_seq = \"\"\n",
    "    for vec in pred:\n",
    "        return_seq += ix_to_char[np.where(vec == max(vec))[0][0]]\n",
    "    return return_seq"
   ]
  },
  {
   "cell_type": "code",
   "execution_count": 72,
   "metadata": {
    "scrolled": false
   },
   "outputs": [
    {
     "name": "stdout",
     "output_type": "stream",
     "text": [
      " the sers the seese as the sore the soene an the soene an the soene an the soene an the soene an the soene an the soene an the soene an the soene an the soene an the soene an the soene an the soene an the soene an the soene an the soene an the soene an the soene an the soene an the soene an the soene an the soene an the soene an the soene an the soene an the soene an the soene an the soene an the soene an the soene an the soene an the soene an the soene an the soene an the soene an the soene an the soene an the soene an the soene an the soene an the soene an the soene an the soene an the soene an the soene an the soene an the soene an the soene an the soene an the soene an the soene an the soene an the soene an the soene an the soene an the soene an the soene an the soene an the soene an the soene an the soene an the soene an the soene an the soene an the soene an the soene an the soene an the soene an the soene an the soene an the soene an the soene an the soene an the soene an the so\n"
     ]
    }
   ],
   "source": [
    "test_sequence = \"There are those who take mental phenomena naively, just as they would physical phenomena. This school of psychologists tends not to emphasize the object\"\n",
    "num_test_pred = 1000\n",
    "result_str = \"\"\n",
    "for i in range(num_test_pred):\n",
    "    result_str += get_next_char(test_sequence + result_str, regressor, char_to_ix, ix_to_char, unique_chars, window_size)\n",
    "#     print(result_str)\n",
    "print(result_str)"
   ]
  },
  {
   "cell_type": "code",
   "execution_count": null,
   "metadata": {
    "colab": {
     "autoexec": {
      "startup": false,
      "wait_interval": 0
     },
     "base_uri": "https://localhost:8080/",
     "height": 71
    },
    "colab_type": "code",
    "executionInfo": {
     "elapsed": 2157,
     "status": "ok",
     "timestamp": 1524458033651,
     "user": {
      "displayName": "Shashwat Razdan",
      "photoUrl": "//lh3.googleusercontent.com/-uysMKqw2z1w/AAAAAAAAAAI/AAAAAAAApxk/W-ioq74c-Qg/s50-c-k-no/photo.jpg",
      "userId": "111186949356327872675"
     },
     "user_tz": 420
    },
    "id": "V6AbqDaSW16G",
    "outputId": "5a0c46f9-7503-48cd-832f-89255c03d057"
   },
   "outputs": [],
   "source": [
    "#regressor.load_weights(\"weights.best.hdf5\")\n",
    "pred = regressor.predict(np.array(lstm_inp_stacked[200:1000]))\n",
    "for vec in pred:\n",
    "    print(ix_to_char[np.where(vec == max(vec))[0][0]], end=\"\")\n",
    "print()\n",
    "print(pred.shape)"
   ]
  },
  {
   "cell_type": "code",
   "execution_count": null,
   "metadata": {
    "colab": {
     "autoexec": {
      "startup": false,
      "wait_interval": 0
     }
    },
    "colab_type": "code",
    "id": "8Suk5Yl-W16L"
   },
   "outputs": [],
   "source": [
    "np.zeros((len(unique_chars)))"
   ]
  }
 ],
 "metadata": {
  "accelerator": "GPU",
  "colab": {
   "default_view": {},
   "name": "Homework1Keras.ipynb",
   "provenance": [],
   "version": "0.3.2",
   "views": {}
  },
  "kernelspec": {
   "display_name": "Python 3",
   "language": "python",
   "name": "python3"
  },
  "language_info": {
   "codemirror_mode": {
    "name": "ipython",
    "version": 3
   },
   "file_extension": ".py",
   "mimetype": "text/x-python",
   "name": "python",
   "nbconvert_exporter": "python",
   "pygments_lexer": "ipython3",
   "version": "3.6.4"
  }
 },
 "nbformat": 4,
 "nbformat_minor": 1
}
